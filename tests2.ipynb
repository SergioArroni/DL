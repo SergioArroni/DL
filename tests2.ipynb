{
 "cells": [
  {
   "cell_type": "markdown",
   "metadata": {},
   "source": [
    "# Model Testing"
   ]
  },
  {
   "cell_type": "markdown",
   "metadata": {},
   "source": [
    "## Intructions\n",
    "\n",
    "Construct a deep neural network. Write a notebook that first implements the data loading process of the two .csv files: attributes and classes. Then, split the dataset into three partitions: 80% for training, 10% for development testing, and the remaining 10% for final testing purposes. Finally, follow the deep-neural-network construction process to find the neural architecture and other hyperparameters that achieve the best performance in classification accuracy. \n",
    "\n",
    "Consider a Bayesian error of 5% (minimum error); i.e., the human error that hotel managers (experts) make when predicting if customers will cancel their bookings. You can use the notebook that implements the deep neural model in Keras to estimate the median house value studied in class as a starting point for this task. Note that we are dealing with a binary classification problem, therefore, we only need one output neuron with the Sigmoid activation function. Moreover, the loss function should be the binary crossentropy and the binary accuracy as a metric.\n",
    "\n",
    "Links :\n",
    "* [Keras Metrics](https://keras.io/api/metrics/)\n",
    "* [Keras Activations](https://keras.io/api/layers/activations/)\n",
    "* [Keras Losses](https://keras.io/api/losses/)\n",
    "* [Keras Initializers](https://keras.io/api/layers/initializers/)"
   ]
  },
  {
   "cell_type": "markdown",
   "metadata": {},
   "source": [
    "## Next steps\n",
    "\n",
    "Idea : poner poco dropout en la primeras capas y subir en las siguientes\n",
    "\n",
    "Coger el modelo de Sergio y cambiar lo un poco\n",
    "\n",
    "Chacun écrit un peu ce qu'il a fait\n",
    "\n",
    "Paul : Faire la présentation du projet, le problème qu'il représente etc\n",
    "\n",
    "Idea : add layer normalization and tweak it"
   ]
  },
  {
   "cell_type": "markdown",
   "metadata": {},
   "source": [
    "## Data Preparation"
   ]
  },
  {
   "cell_type": "code",
   "execution_count": 1,
   "metadata": {},
   "outputs": [],
   "source": [
    "import numpy as np\n",
    "import pandas as pd\n",
    "import tensorflow as tf\n",
    "from tensorflow import keras\n",
    "from sklearn.utils import shuffle\n",
    "from sklearn.model_selection import train_test_split\n",
    "import matplotlib.pyplot as plt"
   ]
  },
  {
   "cell_type": "code",
   "execution_count": 2,
   "metadata": {},
   "outputs": [],
   "source": [
    "abs_path = '/Users/paul/Library/Mobile Documents/com~apple~CloudDocs/Professionnel/GI05/A6 - NN and DL/Project_Units_1-2/DL/data/prep/'\n",
    "\n",
    "df_x = pd.read_csv(abs_path + 'HotelReservationsPreparedCleanX.csv')\n",
    "df_t = pd.read_csv(abs_path + 'HotelReservationsY.csv')"
   ]
  },
  {
   "cell_type": "code",
   "execution_count": 3,
   "metadata": {},
   "outputs": [],
   "source": [
    "seed = 0"
   ]
  },
  {
   "cell_type": "code",
   "execution_count": 4,
   "metadata": {},
   "outputs": [
    {
     "data": {
      "text/html": [
       "<div>\n",
       "<style scoped>\n",
       "    .dataframe tbody tr th:only-of-type {\n",
       "        vertical-align: middle;\n",
       "    }\n",
       "\n",
       "    .dataframe tbody tr th {\n",
       "        vertical-align: top;\n",
       "    }\n",
       "\n",
       "    .dataframe thead th {\n",
       "        text-align: right;\n",
       "    }\n",
       "</style>\n",
       "<table border=\"1\" class=\"dataframe\">\n",
       "  <thead>\n",
       "    <tr style=\"text-align: right;\">\n",
       "      <th></th>\n",
       "      <th>no_of_adults</th>\n",
       "      <th>no_of_children</th>\n",
       "      <th>no_of_weekend_nights</th>\n",
       "      <th>no_of_week_nights</th>\n",
       "      <th>type_of_meal_plan</th>\n",
       "      <th>required_car_parking_space</th>\n",
       "      <th>room_type_reserved</th>\n",
       "      <th>lead_time</th>\n",
       "      <th>arrival_month</th>\n",
       "      <th>arrival_date</th>\n",
       "      <th>market_segment_type</th>\n",
       "      <th>repeated_guest</th>\n",
       "      <th>no_of_previous_cancellations</th>\n",
       "      <th>no_of_previous_bookings_not_canceled</th>\n",
       "      <th>avg_price_per_room</th>\n",
       "      <th>no_of_special_requests</th>\n",
       "    </tr>\n",
       "  </thead>\n",
       "  <tbody>\n",
       "    <tr>\n",
       "      <th>0</th>\n",
       "      <td>0.0</td>\n",
       "      <td>-0.6</td>\n",
       "      <td>-1.000000</td>\n",
       "      <td>-0.882353</td>\n",
       "      <td>-1.0</td>\n",
       "      <td>1.0</td>\n",
       "      <td>-1.0</td>\n",
       "      <td>-0.990971</td>\n",
       "      <td>0.454545</td>\n",
       "      <td>-0.933333</td>\n",
       "      <td>0.0</td>\n",
       "      <td>-1.0</td>\n",
       "      <td>-1.0</td>\n",
       "      <td>-1.0</td>\n",
       "      <td>-0.044444</td>\n",
       "      <td>-0.6</td>\n",
       "    </tr>\n",
       "    <tr>\n",
       "      <th>1</th>\n",
       "      <td>0.0</td>\n",
       "      <td>-1.0</td>\n",
       "      <td>-1.000000</td>\n",
       "      <td>-0.764706</td>\n",
       "      <td>0.0</td>\n",
       "      <td>-1.0</td>\n",
       "      <td>0.0</td>\n",
       "      <td>-0.823928</td>\n",
       "      <td>0.272727</td>\n",
       "      <td>-0.133333</td>\n",
       "      <td>-1.0</td>\n",
       "      <td>-1.0</td>\n",
       "      <td>-1.0</td>\n",
       "      <td>-1.0</td>\n",
       "      <td>-0.624074</td>\n",
       "      <td>-1.0</td>\n",
       "    </tr>\n",
       "    <tr>\n",
       "      <th>2</th>\n",
       "      <td>0.0</td>\n",
       "      <td>-1.0</td>\n",
       "      <td>-0.428571</td>\n",
       "      <td>-0.764706</td>\n",
       "      <td>-1.0</td>\n",
       "      <td>-1.0</td>\n",
       "      <td>0.0</td>\n",
       "      <td>-0.936795</td>\n",
       "      <td>1.000000</td>\n",
       "      <td>0.733333</td>\n",
       "      <td>0.0</td>\n",
       "      <td>-1.0</td>\n",
       "      <td>-1.0</td>\n",
       "      <td>-1.0</td>\n",
       "      <td>-0.603704</td>\n",
       "      <td>-1.0</td>\n",
       "    </tr>\n",
       "    <tr>\n",
       "      <th>3</th>\n",
       "      <td>0.0</td>\n",
       "      <td>-1.0</td>\n",
       "      <td>-1.000000</td>\n",
       "      <td>-0.882353</td>\n",
       "      <td>0.0</td>\n",
       "      <td>-1.0</td>\n",
       "      <td>0.0</td>\n",
       "      <td>-0.548533</td>\n",
       "      <td>0.636364</td>\n",
       "      <td>0.000000</td>\n",
       "      <td>-1.0</td>\n",
       "      <td>-1.0</td>\n",
       "      <td>-1.0</td>\n",
       "      <td>-1.0</td>\n",
       "      <td>-0.600000</td>\n",
       "      <td>-1.0</td>\n",
       "    </tr>\n",
       "    <tr>\n",
       "      <th>4</th>\n",
       "      <td>-0.5</td>\n",
       "      <td>-1.0</td>\n",
       "      <td>-1.000000</td>\n",
       "      <td>-0.882353</td>\n",
       "      <td>0.0</td>\n",
       "      <td>-1.0</td>\n",
       "      <td>0.0</td>\n",
       "      <td>-0.002257</td>\n",
       "      <td>0.272727</td>\n",
       "      <td>-0.266667</td>\n",
       "      <td>-1.0</td>\n",
       "      <td>-1.0</td>\n",
       "      <td>-1.0</td>\n",
       "      <td>-1.0</td>\n",
       "      <td>-0.729630</td>\n",
       "      <td>-1.0</td>\n",
       "    </tr>\n",
       "  </tbody>\n",
       "</table>\n",
       "</div>"
      ],
      "text/plain": [
       "   no_of_adults   no_of_children        no_of_weekend_nights   \\\n",
       "0            0.0                  -0.6              -1.000000   \n",
       "1            0.0                  -1.0              -1.000000   \n",
       "2            0.0                  -1.0              -0.428571   \n",
       "3            0.0                  -1.0              -1.000000   \n",
       "4           -0.5                  -1.0              -1.000000   \n",
       "\n",
       "   no_of_week_nights      type_of_meal_plan   required_car_parking_space   \\\n",
       "0              -0.882353                -1.0                          1.0   \n",
       "1              -0.764706                 0.0                         -1.0   \n",
       "2              -0.764706                -1.0                         -1.0   \n",
       "3              -0.882353                 0.0                         -1.0   \n",
       "4              -0.882353                 0.0                         -1.0   \n",
       "\n",
       "   room_type_reserved   lead_time                arrival_month          \\\n",
       "0                 -1.0                -0.990971               0.454545   \n",
       "1                  0.0                -0.823928               0.272727   \n",
       "2                  0.0                -0.936795               1.000000   \n",
       "3                  0.0                -0.548533               0.636364   \n",
       "4                  0.0                -0.002257               0.272727   \n",
       "\n",
       "   arrival_date           market_segment_type   repeated_guest   \\\n",
       "0              -0.933333                   0.0             -1.0   \n",
       "1              -0.133333                  -1.0             -1.0   \n",
       "2               0.733333                   0.0             -1.0   \n",
       "3               0.000000                  -1.0             -1.0   \n",
       "4              -0.266667                  -1.0             -1.0   \n",
       "\n",
       "   no_of_previous_cancellations   no_of_previous_bookings_not_canceled   \\\n",
       "0                           -1.0                                   -1.0   \n",
       "1                           -1.0                                   -1.0   \n",
       "2                           -1.0                                   -1.0   \n",
       "3                           -1.0                                   -1.0   \n",
       "4                           -1.0                                   -1.0   \n",
       "\n",
       "   avg_price_per_room       no_of_special_requests  \n",
       "0                -0.044444                    -0.6  \n",
       "1                -0.624074                    -1.0  \n",
       "2                -0.603704                    -1.0  \n",
       "3                -0.600000                    -1.0  \n",
       "4                -0.729630                    -1.0  "
      ]
     },
     "execution_count": 4,
     "metadata": {},
     "output_type": "execute_result"
    }
   ],
   "source": [
    "df_x.head()"
   ]
  },
  {
   "cell_type": "code",
   "execution_count": 5,
   "metadata": {},
   "outputs": [
    {
     "data": {
      "text/html": [
       "<div>\n",
       "<style scoped>\n",
       "    .dataframe tbody tr th:only-of-type {\n",
       "        vertical-align: middle;\n",
       "    }\n",
       "\n",
       "    .dataframe tbody tr th {\n",
       "        vertical-align: top;\n",
       "    }\n",
       "\n",
       "    .dataframe thead th {\n",
       "        text-align: right;\n",
       "    }\n",
       "</style>\n",
       "<table border=\"1\" class=\"dataframe\">\n",
       "  <thead>\n",
       "    <tr style=\"text-align: right;\">\n",
       "      <th></th>\n",
       "      <th>booking_status</th>\n",
       "    </tr>\n",
       "  </thead>\n",
       "  <tbody>\n",
       "    <tr>\n",
       "      <th>0</th>\n",
       "      <td>1</td>\n",
       "    </tr>\n",
       "    <tr>\n",
       "      <th>1</th>\n",
       "      <td>1</td>\n",
       "    </tr>\n",
       "    <tr>\n",
       "      <th>2</th>\n",
       "      <td>1</td>\n",
       "    </tr>\n",
       "    <tr>\n",
       "      <th>3</th>\n",
       "      <td>0</td>\n",
       "    </tr>\n",
       "    <tr>\n",
       "      <th>4</th>\n",
       "      <td>1</td>\n",
       "    </tr>\n",
       "  </tbody>\n",
       "</table>\n",
       "</div>"
      ],
      "text/plain": [
       "   booking_status\n",
       "0               1\n",
       "1               1\n",
       "2               1\n",
       "3               0\n",
       "4               1"
      ]
     },
     "execution_count": 5,
     "metadata": {},
     "output_type": "execute_result"
    }
   ],
   "source": [
    "df_t.head()"
   ]
  },
  {
   "cell_type": "code",
   "execution_count": 6,
   "metadata": {},
   "outputs": [
    {
     "name": "stdout",
     "output_type": "stream",
     "text": [
      "(29016, 16)\n",
      "(29016, 1)\n",
      "(3627, 16)\n",
      "(3627, 1)\n"
     ]
    }
   ],
   "source": [
    "df = pd.concat([df_x, df_t], axis = 1)\n",
    "df = shuffle(df, random_state=seed)\n",
    "X_train, X_test, t_train, t_test = train_test_split(df_x, df_t, stratify=df_t, test_size=0.2, random_state=seed)\n",
    "X_test, X_val, t_test, t_val = train_test_split(X_test, t_test, stratify=t_test, test_size=0.5, random_state=seed)\n",
    "\n",
    "input_shape = X_train.shape[1]\n",
    "output_shape = t_train.shape[1]\n",
    "\n",
    "print(X_train.shape)\n",
    "print(t_train.shape)\n",
    "print(X_val.shape)\n",
    "print(t_val.shape)"
   ]
  },
  {
   "cell_type": "code",
   "execution_count": 7,
   "metadata": {},
   "outputs": [],
   "source": [
    "def compute_ovefitting(history, range=5):\n",
    "    res_df = pd.DataFrame(history.history)\n",
    "    bin_ac = res_df['binary_accuracy'][-range:]\n",
    "    val_bin_ac = res_df['val_binary_accuracy'][-range:]\n",
    "    overfitting = bin_ac - val_bin_ac\n",
    "    total_ov = 0\n",
    "    for item in overfitting:\n",
    "        total_ov += item\n",
    "    return total_ov/range\n"
   ]
  },
  {
   "cell_type": "markdown",
   "metadata": {},
   "source": [
    "## Attempt 8"
   ]
  },
  {
   "cell_type": "code",
   "execution_count": 7,
   "metadata": {},
   "outputs": [],
   "source": [
    "# from keras.models import Sequential\n",
    "\n",
    "# model = Sequential(name='Model8')\n",
    "\n",
    "# model.add(keras.layers.Input(shape=input_shape))\n",
    "# model.add(keras.layers.Dense(units=1024,\n",
    "#                              activation=keras.activations.elu, \n",
    "#                              kernel_initializer=keras.initializers.HeNormal(seed=seed)))\n",
    "# model.add(keras.layers.Dense(units=1024,\n",
    "#                              activation=keras.activations.elu, \n",
    "#                              kernel_initializer=keras.initializers.HeNormal(seed=seed)))\n",
    "# model.add(keras.layers.Dense(units=1024,\n",
    "#                              activation=keras.activations.elu,\n",
    "#                              kernel_initializer=keras.initializers.HeNormal(seed=seed)))\n",
    "# model.add(keras.layers.Dense(units=output_shape, activation=keras.activations.sigmoid,\n",
    "#                              kernel_initializer=keras.initializers.GlorotNormal(seed=seed)))\n",
    "# model.summary()"
   ]
  },
  {
   "cell_type": "markdown",
   "metadata": {},
   "source": [
    "Best performance : 88%"
   ]
  },
  {
   "cell_type": "code",
   "execution_count": 8,
   "metadata": {},
   "outputs": [],
   "source": [
    "# model.compile(loss=keras.losses.binary_crossentropy,\n",
    "#               optimizer=keras.optimizers.legacy.Adam(learning_rate=0.001),\n",
    "#               metrics=keras.metrics.binary_accuracy)"
   ]
  },
  {
   "cell_type": "code",
   "execution_count": 9,
   "metadata": {},
   "outputs": [],
   "source": [
    "# from playsound import playsound\n",
    "# history = model.fit(X_train, t_train, batch_size=32, epochs=20, verbose=0, validation_data=(\n",
    "#     X_val, t_val))\n",
    "# logs = pd.DataFrame(history.history)\n",
    "# playsound('/Users/paul/Downloads/joyous-chime-notification.mp3')\n",
    "# logs"
   ]
  },
  {
   "cell_type": "code",
   "execution_count": 10,
   "metadata": {},
   "outputs": [],
   "source": [
    "# history = model.fit(X_train, t_train, batch_size=32, epochs=20, verbose=0, validation_data=(\n",
    "#     X_val, t_val))\n",
    "# logs = pd.DataFrame(history.history)\n",
    "# playsound('/Users/paul/Downloads/joyous-chime-notification.mp3')\n",
    "# logs"
   ]
  },
  {
   "cell_type": "markdown",
   "metadata": {},
   "source": [
    "## Attempt 9"
   ]
  },
  {
   "cell_type": "code",
   "execution_count": 11,
   "metadata": {},
   "outputs": [],
   "source": [
    "# from keras.models import Sequential\n",
    "\n",
    "# model = Sequential(name='Model8')\n",
    "\n",
    "[1024,1024,1024,1024] -> elu training:93 validation:86 epoch:40, fine-tuning:20\n",
    "\n",
    "# model.add(keras.layers.Input(shape=input_shape))\n",
    "# model.add(keras.layers.Dense(units=1024,\n",
    "#                              activation=keras.activations.elu,\n",
    "#                              kernel_initializer=keras.initializers.HeNormal(seed=seed)))\n",
    "# model.add(keras.layers.Dense(units=1024,\n",
    "#                              activation=keras.activations.elu,\n",
    "#                              kernel_initializer=keras.initializers.HeNormal(seed=seed)))\n",
    "# model.add(keras.layers.Dense(units=1024,\n",
    "#                              activation=keras.activations.elu,\n",
    "#                              kernel_initializer=keras.initializers.HeNormal(seed=seed)))\n",
    "# model.add(keras.layers.Dense(units=1024,\n",
    "#                              activation=keras.activations.elu,\n",
    "#                              kernel_initializer=keras.initializers.HeNormal(seed=seed)))\n",
    "# model.add(keras.layers.Dense(units=output_shape, activation=keras.activations.sigmoid,\n",
    "#                              kernel_initializer=keras.initializers.GlorotNormal(seed=seed)))\n",
    "# model.summary()"
   ]
  },
  {
   "cell_type": "code",
   "execution_count": 12,
   "metadata": {},
   "outputs": [],
   "source": [
    "# model.compile(loss=keras.losses.binary_crossentropy,\n",
    "#               optimizer=keras.optimizers.legacy.Adam(learning_rate=0.001),\n",
    "#               metrics=keras.metrics.binary_accuracy)"
   ]
  },
  {
   "cell_type": "code",
   "execution_count": 13,
   "metadata": {},
   "outputs": [],
   "source": [
    "# from playsound import playsound\n",
    "# history = model.fit(X_train, t_train, batch_size=32, epochs=20, verbose=0, validation_data=(\n",
    "#     X_val, t_val))\n",
    "# logs = pd.DataFrame(history.history)\n",
    "# playsound('/Users/paul/Downloads/joyous-chime-notification.mp3')\n",
    "# logs"
   ]
  },
  {
   "cell_type": "code",
   "execution_count": 14,
   "metadata": {},
   "outputs": [],
   "source": [
    "# history = model.fit(X_train, t_train, batch_size=32, epochs=20, verbose=0, validation_data=(\n",
    "#     X_val, t_val))\n",
    "# logs = pd.DataFrame(history.history)\n",
    "# playsound('/Users/paul/Downloads/joyous-chime-notification.mp3')\n",
    "# logs"
   ]
  },
  {
   "cell_type": "code",
   "execution_count": 15,
   "metadata": {},
   "outputs": [],
   "source": [
    "# results = pd.DataFrame(history.history)\n",
    "# results.plot(figsize=(8, 5))\n",
    "# plt.grid(True)\n",
    "# plt.xlabel(\"Epochs\")\n",
    "# plt.ylabel(\"Accuracy - Mean Log Loss\")\n",
    "# plt.gca().set_ylim(0, 1)  # set the vertical range to [0-1]\n",
    "# plt.show()"
   ]
  },
  {
   "cell_type": "markdown",
   "metadata": {},
   "source": [
    "Maybe should have started fine-tuning here?"
   ]
  },
  {
   "cell_type": "code",
   "execution_count": 16,
   "metadata": {},
   "outputs": [],
   "source": [
    "# history = model.fit(X_train, t_train, batch_size=32, epochs=20, verbose=0, validation_data=(\n",
    "#     X_val, t_val))\n",
    "# logs = pd.DataFrame(history.history)\n",
    "# playsound('/Users/paul/Downloads/joyous-chime-notification.mp3')\n",
    "# logs"
   ]
  },
  {
   "attachments": {
    "image.png": {
     "image/png": "[encoded data removed]"
    }
   },
   "cell_type": "markdown",
   "metadata": {},
   "source": [
    "![image.png](attachment:image.png)"
   ]
  },
  {
   "cell_type": "markdown",
   "metadata": {},
   "source": [
    "Acheived : accuracy : 0.898608      val_accuracy : 0.854425"
   ]
  },
  {
   "cell_type": "markdown",
   "metadata": {},
   "source": [
    "### Fine-tuning 1"
   ]
  },
  {
   "cell_type": "code",
   "execution_count": 17,
   "metadata": {},
   "outputs": [],
   "source": [
    "# model.compile(loss=keras.losses.binary_crossentropy,\n",
    "#               optimizer=keras.optimizers.legacy.Adam(learning_rate=0.0001),\n",
    "#               metrics=keras.metrics.binary_accuracy)"
   ]
  },
  {
   "cell_type": "code",
   "execution_count": 18,
   "metadata": {},
   "outputs": [],
   "source": [
    "# history = model.fit(X_train, t_train, batch_size=32, epochs=20, verbose=0, validation_data=(\n",
    "#     X_val, t_val))\n",
    "# logs = pd.DataFrame(history.history)\n",
    "# playsound('/Users/paul/Downloads/joyous-chime-notification.mp3')\n",
    "# logs"
   ]
  },
  {
   "cell_type": "markdown",
   "metadata": {},
   "source": [
    "Acheived : accuracy : 0.936966         val_accuracy : 0.861869\n",
    "\n",
    "High overfitting -> Add dropout"
   ]
  },
  {
   "cell_type": "code",
   "execution_count": 19,
   "metadata": {},
   "outputs": [],
   "source": [
    "# results = pd.DataFrame(history.history)\n",
    "# results.plot(figsize=(8, 5))\n",
    "# plt.grid(True)\n",
    "# plt.xlabel(\"Epochs\")\n",
    "# plt.ylabel(\"Accuracy - Mean Log Loss\")\n",
    "# plt.gca().set_ylim(0, 1)  # set the vertical range to [0-1]\n",
    "# plt.show()"
   ]
  },
  {
   "attachments": {
    "image.png": {
     "image/png": "[encoded data removed]"
    }
   },
   "cell_type": "markdown",
   "metadata": {},
   "source": [
    "![image.png](attachment:image.png)"
   ]
  },
  {
   "cell_type": "markdown",
   "metadata": {},
   "source": [
    "## Attempt 10"
   ]
  },
  {
   "cell_type": "code",
   "execution_count": 20,
   "metadata": {},
   "outputs": [],
   "source": [
    "# from keras.models import Sequential\n",
    "\n",
    "# model = Sequential(name='Model10')\n",
    "\n",
    "# model.add(keras.layers.Input(shape=input_shape))\n",
    "# model.add(keras.layers.Dense(units=1024,\n",
    "#                              activation=keras.activations.elu,\n",
    "#                              kernel_initializer=keras.initializers.HeNormal(seed=seed)))\n",
    "# model.add(keras.layers.Dropout(0.1))\n",
    "# model.add(keras.layers.Dense(units=1024,\n",
    "#                              activation=keras.activations.elu,\n",
    "#                              kernel_initializer=keras.initializers.HeNormal(seed=seed)))\n",
    "# model.add(keras.layers.Dropout(0.1))\n",
    "# model.add(keras.layers.Dense(units=1024,\n",
    "#                              activation=keras.activations.elu,\n",
    "#                              kernel_initializer=keras.initializers.HeNormal(seed=seed)))\n",
    "# model.add(keras.layers.Dropout(0.1))\n",
    "# model.add(keras.layers.Dense(units=1024,\n",
    "#                              activation=keras.activations.elu,\n",
    "#                              kernel_initializer=keras.initializers.HeNormal(seed=seed)))\n",
    "# model.add(keras.layers.Dropout(0.1))\n",
    "# model.add(keras.layers.Dense(units=output_shape, activation=keras.activations.sigmoid,\n",
    "#                              kernel_initializer=keras.initializers.GlorotNormal(seed=seed)))\n",
    "# model.summary()"
   ]
  },
  {
   "cell_type": "code",
   "execution_count": 21,
   "metadata": {},
   "outputs": [],
   "source": [
    "# model.compile(loss=keras.losses.binary_crossentropy,\n",
    "#               optimizer=keras.optimizers.legacy.Adam(learning_rate=0.001),\n",
    "#               metrics=keras.metrics.binary_accuracy)"
   ]
  },
  {
   "cell_type": "code",
   "execution_count": 22,
   "metadata": {},
   "outputs": [],
   "source": [
    "# from playsound import playsound\n",
    "# history = model.fit(X_train, t_train, batch_size=32, epochs=15, verbose=0, validation_data=(\n",
    "#     X_val, t_val))\n",
    "# logs = pd.DataFrame(history.history)\n",
    "# playsound('/Users/paul/Downloads/joyous-chime-notification.mp3')\n",
    "# logs"
   ]
  },
  {
   "cell_type": "code",
   "execution_count": 23,
   "metadata": {},
   "outputs": [],
   "source": [
    "# results = pd.DataFrame(history.history)\n",
    "# results.plot(figsize=(8, 5))\n",
    "# plt.grid(True)\n",
    "# plt.xlabel(\"Epochs\")\n",
    "# plt.ylabel(\"Accuracy - Mean Log Loss\")\n",
    "# plt.gca().set_ylim(0, 1)  # set the vertical range to [0-1]\n",
    "# plt.show()"
   ]
  },
  {
   "cell_type": "markdown",
   "metadata": {},
   "source": [
    "### Fine-tuning : $\\frac{\\alpha}{10}$"
   ]
  },
  {
   "cell_type": "code",
   "execution_count": 24,
   "metadata": {},
   "outputs": [],
   "source": [
    "# model.compile(loss=keras.losses.binary_crossentropy,\n",
    "#               optimizer=keras.optimizers.legacy.Adam(learning_rate=0.0001),\n",
    "#               metrics=keras.metrics.binary_accuracy)"
   ]
  },
  {
   "cell_type": "code",
   "execution_count": 25,
   "metadata": {},
   "outputs": [],
   "source": [
    "# from playsound import playsound\n",
    "# history = model.fit(X_train, t_train, batch_size=32, epochs=20, verbose=0, validation_data=(\n",
    "#     X_val, t_val))\n",
    "# logs = pd.DataFrame(history.history)\n",
    "# playsound('/Users/paul/Downloads/joyous-chime-notification.mp3')\n",
    "# logs"
   ]
  },
  {
   "cell_type": "code",
   "execution_count": 26,
   "metadata": {},
   "outputs": [],
   "source": [
    "# results = pd.DataFrame(history.history)\n",
    "# results.plot(figsize=(8, 5))\n",
    "# plt.grid(True)\n",
    "# plt.xlabel(\"Epochs\")\n",
    "# plt.ylabel(\"Accuracy - Mean Log Loss\")\n",
    "# plt.gca().set_ylim(0, 1)  # set the vertical range to [0-1]\n",
    "# plt.show()"
   ]
  },
  {
   "cell_type": "markdown",
   "metadata": {},
   "source": [
    "### Fine-tuning : $\\frac{\\alpha}{100}$"
   ]
  },
  {
   "cell_type": "code",
   "execution_count": 27,
   "metadata": {},
   "outputs": [],
   "source": [
    "# model.compile(loss=keras.losses.binary_crossentropy,\n",
    "#               optimizer=keras.optimizers.legacy.Adam(learning_rate=0.00001),\n",
    "#               metrics=keras.metrics.binary_accuracy)"
   ]
  },
  {
   "cell_type": "code",
   "execution_count": 28,
   "metadata": {},
   "outputs": [],
   "source": [
    "# from playsound import playsound\n",
    "# history = model.fit(X_train, t_train, batch_size=32, epochs=20, verbose=0, validation_data=(\n",
    "#     X_val, t_val))\n",
    "# logs = pd.DataFrame(history.history)\n",
    "# playsound('/Users/paul/Downloads/joyous-chime-notification.mp3')\n",
    "# logs"
   ]
  },
  {
   "cell_type": "code",
   "execution_count": 29,
   "metadata": {},
   "outputs": [],
   "source": [
    "# results = pd.DataFrame(history.history)\n",
    "# results.plot(figsize=(8, 5))\n",
    "# plt.grid(True)\n",
    "# plt.xlabel(\"Epochs\")\n",
    "# plt.ylabel(\"Accuracy - Mean Log Loss\")\n",
    "# plt.gca().set_ylim(0, 1)  # set the vertical range to [0-1]\n",
    "# plt.show()"
   ]
  },
  {
   "attachments": {
    "image.png": {
     "image/png": "[encoded data removed]"
    }
   },
   "cell_type": "markdown",
   "metadata": {},
   "source": [
    "![image.png](attachment:image.png)"
   ]
  },
  {
   "cell_type": "code",
   "execution_count": 30,
   "metadata": {},
   "outputs": [],
   "source": [
    "# model.compile(loss=keras.losses.binary_crossentropy,\n",
    "#               optimizer=keras.optimizers.legacy.Adam(learning_rate=0.000001),\n",
    "#               metrics=keras.metrics.binary_accuracy)"
   ]
  },
  {
   "cell_type": "code",
   "execution_count": 31,
   "metadata": {},
   "outputs": [],
   "source": [
    "# from playsound import playsound\n",
    "# history = model.fit(X_train, t_train, batch_size=32, epochs=20, verbose=0, validation_data=(\n",
    "#     X_val, t_val))\n",
    "# logs = pd.DataFrame(history.history)\n",
    "# playsound('/Users/paul/Downloads/joyous-chime-notification.mp3')\n",
    "# logs"
   ]
  },
  {
   "cell_type": "code",
   "execution_count": 32,
   "metadata": {},
   "outputs": [],
   "source": [
    "# results = pd.DataFrame(history.history)\n",
    "# results.plot(figsize=(8, 5))\n",
    "# plt.grid(True)\n",
    "# plt.xlabel(\"Epochs\")\n",
    "# plt.ylabel(\"Accuracy - Mean Log Loss\")\n",
    "# plt.gca().set_ylim(0, 1)  # set the vertical range to [0-1]\n",
    "# plt.show()"
   ]
  },
  {
   "attachments": {
    "image.png": {
     "image/png": "[encoded data removed]"
    }
   },
   "cell_type": "markdown",
   "metadata": {},
   "source": [
    "![image.png](attachment:image.png)"
   ]
  },
  {
   "cell_type": "markdown",
   "metadata": {},
   "source": [
    "Accuracy : 0.896126     Val_accuracy : 0.870968"
   ]
  },
  {
   "cell_type": "markdown",
   "metadata": {},
   "source": [
    "## Attempt 11"
   ]
  },
  {
   "cell_type": "markdown",
   "metadata": {},
   "source": [
    "from keras.models import Sequential\n",
    "\n",
    "model = Sequential(name='Model10')\n",
    "\n",
    "model.add(keras.layers.Input(shape=input_shape))\n",
    "model.add(keras.layers.Dense(units=1024,\n",
    "                             activation=keras.activations.elu,\n",
    "                             kernel_initializer=keras.initializers.HeNormal(seed=seed),\n",
    "                             kernel_regularizer=keras.regularizers.l2(0.0005)))\n",
    "model.add(keras.layers.Dense(units=1024,\n",
    "                             activation=keras.activations.elu,\n",
    "                             kernel_initializer=keras.initializers.HeNormal(seed=seed),\n",
    "                             kernel_regularizer=keras.regularizers.l2(0.0005)))\n",
    "model.add(keras.layers.Dense(units=1024,\n",
    "                             activation=keras.activations.elu,\n",
    "                             kernel_initializer=keras.initializers.HeNormal(seed=seed),\n",
    "                             kernel_regularizer=keras.regularizers.l2(0.0005)))\n",
    "model.add(keras.layers.Dense(units=1024,\n",
    "                             activation=keras.activations.elu,\n",
    "                             kernel_initializer=keras.initializers.HeNormal(seed=seed),\n",
    "                             kernel_regularizer=keras.regularizers.l2(0.0005)))\n",
    "model.add(keras.layers.Dense(units=output_shape, activation=keras.activations.sigmoid,\n",
    "                             kernel_initializer=keras.initializers.GlorotNormal(seed=seed)))\n",
    "model.summary()"
   ]
  },
  {
   "cell_type": "markdown",
   "metadata": {},
   "source": [
    "model.compile(loss=keras.losses.binary_crossentropy,\n",
    "              optimizer=keras.optimizers.legacy.Adam(learning_rate=0.001),\n",
    "              metrics=keras.metrics.binary_accuracy)"
   ]
  },
  {
   "cell_type": "markdown",
   "metadata": {},
   "source": [
    "from playsound import playsound\n",
    "history = model.fit(X_train, t_train, batch_size=32, epochs=20, verbose=0, validation_data=(\n",
    "    X_val, t_val))\n",
    "logs = pd.DataFrame(history.history)\n",
    "playsound('/Users/paul/Downloads/joyous-chime-notification.mp3')\n",
    "logs"
   ]
  },
  {
   "cell_type": "markdown",
   "metadata": {},
   "source": [
    "a = 0.814413\t        v_a = 0.801765"
   ]
  },
  {
   "cell_type": "markdown",
   "metadata": {},
   "source": [
    "Idea : Increase kernel regularization and increase epochs "
   ]
  },
  {
   "cell_type": "markdown",
   "metadata": {},
   "source": [
    "results = pd.DataFrame(history.history)\n",
    "results.plot(figsize=(8, 5))\n",
    "plt.grid(True)\n",
    "plt.xlabel(\"Epochs\")\n",
    "plt.ylabel(\"Accuracy - Mean Log Loss\")\n",
    "plt.gca().set_ylim(0, 1)  # set the vertical range to [0-1]\n",
    "plt.show()"
   ]
  },
  {
   "cell_type": "markdown",
   "metadata": {},
   "source": [
    "### $\\alpha_2 = \\frac{\\alpha_1}{10}$"
   ]
  },
  {
   "cell_type": "markdown",
   "metadata": {},
   "source": [
    "model.compile(optimizer=keras.optimizers.legacy.Adam(0.0001),\n",
    "              loss=keras.losses.binary_crossentropy,\n",
    "              metrics=keras.metrics.binary_accuracy)"
   ]
  },
  {
   "cell_type": "markdown",
   "metadata": {},
   "source": [
    "from playsound import playsound\n",
    "history = model.fit(X_train, t_train, batch_size=32, epochs=20, verbose=0, validation_data=(\n",
    "    X_val, t_val))\n",
    "logs = pd.DataFrame(history.history)\n",
    "playsound('/Users/paul/Downloads/joyous-chime-notification.mp3')\n",
    "logs"
   ]
  },
  {
   "cell_type": "markdown",
   "metadata": {},
   "source": [
    "a = 0.819927        v_a = 0.808933"
   ]
  },
  {
   "cell_type": "markdown",
   "metadata": {},
   "source": [
    "results = pd.DataFrame(history.history)\n",
    "results.plot(figsize=(8, 5))\n",
    "plt.grid(True)\n",
    "plt.xlabel(\"Epochs\")\n",
    "plt.ylabel(\"Accuracy - Mean Log Loss\")\n",
    "plt.gca().set_ylim(0, 1)  # set the vertical range to [0-1]\n",
    "plt.show()"
   ]
  },
  {
   "cell_type": "markdown",
   "metadata": {},
   "source": [
    "### $\\alpha_3 = \\alpha_1$"
   ]
  },
  {
   "cell_type": "markdown",
   "metadata": {},
   "source": [
    "model.compile(optimizer=keras.optimizers.legacy.Adam(0.001),\n",
    "              loss=keras.losses.binary_crossentropy,\n",
    "              metrics=keras.metrics.binary_accuracy)"
   ]
  },
  {
   "cell_type": "markdown",
   "metadata": {},
   "source": [
    "from playsound import playsound\n",
    "history = model.fit(X_train, t_train, batch_size=32, epochs=20, verbose=0, validation_data=(\n",
    "    X_val, t_val))\n",
    "logs = pd.DataFrame(history.history)\n",
    "playsound('/Users/paul/Downloads/joyous-chime-notification.mp3')\n",
    "logs"
   ]
  },
  {
   "cell_type": "markdown",
   "metadata": {},
   "source": [
    "a = 0.817928        v_a = 0.810312"
   ]
  },
  {
   "cell_type": "markdown",
   "metadata": {},
   "source": [
    "results = pd.DataFrame(history.history)\n",
    "results.plot(figsize=(8, 5))\n",
    "plt.grid(True)\n",
    "plt.xlabel(\"Epochs\")\n",
    "plt.ylabel(\"Accuracy - Mean Log Loss\")\n",
    "plt.gca().set_ylim(0, 1)  # set the vertical range to [0-1]\n",
    "plt.show()"
   ]
  },
  {
   "attachments": {
    "image.png": {
     "image/png": "[encoded data removed]"
    }
   },
   "cell_type": "markdown",
   "metadata": {},
   "source": [
    "![image.png](attachment:image.png)"
   ]
  },
  {
   "cell_type": "markdown",
   "metadata": {},
   "source": [
    "## Attempt 12"
   ]
  },
  {
   "cell_type": "code",
   "execution_count": 33,
   "metadata": {},
   "outputs": [
    {
     "name": "stdout",
     "output_type": "stream",
     "text": [
      "Model: \"Model10\"\n",
      "_________________________________________________________________\n",
      " Layer (type)                Output Shape              Param #   \n",
      "=================================================================\n",
      " dense (Dense)               (None, 1280)              21760     \n",
      "                                                                 \n",
      " dropout (Dropout)           (None, 1280)              0         \n",
      "                                                                 \n",
      " dense_1 (Dense)             (None, 1280)              1639680   \n",
      "                                                                 \n",
      " dropout_1 (Dropout)         (None, 1280)              0         \n",
      "                                                                 \n",
      " dense_2 (Dense)             (None, 1280)              1639680   \n",
      "                                                                 \n",
      " dropout_2 (Dropout)         (None, 1280)              0         \n",
      "                                                                 \n",
      " dense_3 (Dense)             (None, 1280)              1639680   \n",
      "                                                                 \n",
      " dropout_3 (Dropout)         (None, 1280)              0         \n",
      "                                                                 \n",
      " dense_4 (Dense)             (None, 1)                 1281      \n",
      "                                                                 \n",
      "=================================================================\n",
      "Total params: 4942081 (18.85 MB)\n",
      "Trainable params: 4942081 (18.85 MB)\n",
      "Non-trainable params: 0 (0.00 Byte)\n",
      "_________________________________________________________________\n"
     ]
    },
    {
     "name": "stderr",
     "output_type": "stream",
     "text": [
      "2023-11-14 17:14:48.020483: I metal_plugin/src/device/metal_device.cc:1154] Metal device set to: Apple M1\n",
      "2023-11-14 17:14:48.020530: I metal_plugin/src/device/metal_device.cc:296] systemMemory: 16.00 GB\n",
      "2023-11-14 17:14:48.020539: I metal_plugin/src/device/metal_device.cc:313] maxCacheSize: 5.33 GB\n",
      "2023-11-14 17:14:48.020859: I tensorflow/core/common_runtime/pluggable_device/pluggable_device_factory.cc:303] Could not identify NUMA node of platform GPU ID 0, defaulting to 0. Your kernel may not have been built with NUMA support.\n",
      "2023-11-14 17:14:48.020892: I tensorflow/core/common_runtime/pluggable_device/pluggable_device_factory.cc:269] Created TensorFlow device (/job:localhost/replica:0/task:0/device:GPU:0 with 0 MB memory) -> physical PluggableDevice (device: 0, name: METAL, pci bus id: <undefined>)\n"
     ]
    }
   ],
   "source": [
    "from keras.models import Sequential\n",
    "\n",
    "model = Sequential(name='Model10')\n",
    "\n",
    "model.add(keras.layers.Input(shape=input_shape))\n",
    "model.add(keras.layers.Dense(units=1280,\n",
    "                             activation=keras.activations.elu,\n",
    "                             kernel_initializer=keras.initializers.HeNormal(seed=seed)))\n",
    "model.add(keras.layers.Dropout(0.1))\n",
    "model.add(keras.layers.Dense(units=1280,\n",
    "                             activation=keras.activations.elu,\n",
    "                             kernel_initializer=keras.initializers.HeNormal(seed=seed)))\n",
    "model.add(keras.layers.Dropout(0.1))\n",
    "model.add(keras.layers.Dense(units=1280,\n",
    "                             activation=keras.activations.elu,\n",
    "                             kernel_initializer=keras.initializers.HeNormal(seed=seed)))\n",
    "model.add(keras.layers.Dropout(0.1))\n",
    "model.add(keras.layers.Dense(units=1280,\n",
    "                             activation=keras.activations.elu,\n",
    "                             kernel_initializer=keras.initializers.HeNormal(seed=seed)))\n",
    "model.add(keras.layers.Dropout(0.1))\n",
    "model.add(keras.layers.Dense(units=output_shape, activation=keras.activations.sigmoid,\n",
    "                             kernel_initializer=keras.initializers.GlorotNormal(seed=seed)))\n",
    "model.summary()"
   ]
  },
  {
   "cell_type": "code",
   "execution_count": 34,
   "metadata": {},
   "outputs": [],
   "source": [
    "model.compile(loss=keras.losses.binary_crossentropy,\n",
    "               optimizer=keras.optimizers.legacy.Adam(learning_rate=0.001),\n",
    "               metrics=keras.metrics.binary_accuracy)"
   ]
  },
  {
   "cell_type": "code",
   "execution_count": 35,
   "metadata": {},
   "outputs": [
    {
     "name": "stderr",
     "output_type": "stream",
     "text": [
      "2023-11-14 17:15:12.393871: I tensorflow/core/grappler/optimizers/custom_graph_optimizer_registry.cc:114] Plugin optimizer for device_type GPU is enabled.\n",
      "2023-11-14 17:15:31.080276: I tensorflow/core/grappler/optimizers/custom_graph_optimizer_registry.cc:114] Plugin optimizer for device_type GPU is enabled.\n"
     ]
    },
    {
     "data": {
      "text/html": [
       "<div>\n",
       "<style scoped>\n",
       "    .dataframe tbody tr th:only-of-type {\n",
       "        vertical-align: middle;\n",
       "    }\n",
       "\n",
       "    .dataframe tbody tr th {\n",
       "        vertical-align: top;\n",
       "    }\n",
       "\n",
       "    .dataframe thead th {\n",
       "        text-align: right;\n",
       "    }\n",
       "</style>\n",
       "<table border=\"1\" class=\"dataframe\">\n",
       "  <thead>\n",
       "    <tr style=\"text-align: right;\">\n",
       "      <th></th>\n",
       "      <th>loss</th>\n",
       "      <th>binary_accuracy</th>\n",
       "      <th>val_loss</th>\n",
       "      <th>val_binary_accuracy</th>\n",
       "    </tr>\n",
       "  </thead>\n",
       "  <tbody>\n",
       "    <tr>\n",
       "      <th>0</th>\n",
       "      <td>0.556236</td>\n",
       "      <td>0.770299</td>\n",
       "      <td>0.522869</td>\n",
       "      <td>0.723463</td>\n",
       "    </tr>\n",
       "    <tr>\n",
       "      <th>1</th>\n",
       "      <td>0.439416</td>\n",
       "      <td>0.792528</td>\n",
       "      <td>0.411617</td>\n",
       "      <td>0.802316</td>\n",
       "    </tr>\n",
       "    <tr>\n",
       "      <th>2</th>\n",
       "      <td>0.413420</td>\n",
       "      <td>0.808002</td>\n",
       "      <td>0.438317</td>\n",
       "      <td>0.784946</td>\n",
       "    </tr>\n",
       "    <tr>\n",
       "      <th>3</th>\n",
       "      <td>0.407451</td>\n",
       "      <td>0.814447</td>\n",
       "      <td>0.435602</td>\n",
       "      <td>0.785498</td>\n",
       "    </tr>\n",
       "    <tr>\n",
       "      <th>4</th>\n",
       "      <td>0.406593</td>\n",
       "      <td>0.815171</td>\n",
       "      <td>0.410797</td>\n",
       "      <td>0.804797</td>\n",
       "    </tr>\n",
       "    <tr>\n",
       "      <th>5</th>\n",
       "      <td>0.387832</td>\n",
       "      <td>0.819996</td>\n",
       "      <td>0.373119</td>\n",
       "      <td>0.829611</td>\n",
       "    </tr>\n",
       "    <tr>\n",
       "      <th>6</th>\n",
       "      <td>0.375265</td>\n",
       "      <td>0.832506</td>\n",
       "      <td>0.365948</td>\n",
       "      <td>0.830163</td>\n",
       "    </tr>\n",
       "    <tr>\n",
       "      <th>7</th>\n",
       "      <td>0.366573</td>\n",
       "      <td>0.837814</td>\n",
       "      <td>0.372371</td>\n",
       "      <td>0.827130</td>\n",
       "    </tr>\n",
       "    <tr>\n",
       "      <th>8</th>\n",
       "      <td>0.359826</td>\n",
       "      <td>0.842225</td>\n",
       "      <td>0.441023</td>\n",
       "      <td>0.791563</td>\n",
       "    </tr>\n",
       "    <tr>\n",
       "      <th>9</th>\n",
       "      <td>0.357492</td>\n",
       "      <td>0.839744</td>\n",
       "      <td>0.360056</td>\n",
       "      <td>0.840088</td>\n",
       "    </tr>\n",
       "    <tr>\n",
       "      <th>10</th>\n",
       "      <td>0.346617</td>\n",
       "      <td>0.846016</td>\n",
       "      <td>0.344027</td>\n",
       "      <td>0.842570</td>\n",
       "    </tr>\n",
       "    <tr>\n",
       "      <th>11</th>\n",
       "      <td>0.347233</td>\n",
       "      <td>0.846050</td>\n",
       "      <td>0.365801</td>\n",
       "      <td>0.836504</td>\n",
       "    </tr>\n",
       "    <tr>\n",
       "      <th>12</th>\n",
       "      <td>0.334504</td>\n",
       "      <td>0.852495</td>\n",
       "      <td>0.347526</td>\n",
       "      <td>0.842845</td>\n",
       "    </tr>\n",
       "    <tr>\n",
       "      <th>13</th>\n",
       "      <td>0.333800</td>\n",
       "      <td>0.852668</td>\n",
       "      <td>0.386491</td>\n",
       "      <td>0.830990</td>\n",
       "    </tr>\n",
       "    <tr>\n",
       "      <th>14</th>\n",
       "      <td>0.358409</td>\n",
       "      <td>0.846567</td>\n",
       "      <td>0.372524</td>\n",
       "      <td>0.828784</td>\n",
       "    </tr>\n",
       "    <tr>\n",
       "      <th>15</th>\n",
       "      <td>0.339797</td>\n",
       "      <td>0.851703</td>\n",
       "      <td>0.355795</td>\n",
       "      <td>0.843672</td>\n",
       "    </tr>\n",
       "    <tr>\n",
       "      <th>16</th>\n",
       "      <td>0.329012</td>\n",
       "      <td>0.855252</td>\n",
       "      <td>0.349307</td>\n",
       "      <td>0.849187</td>\n",
       "    </tr>\n",
       "    <tr>\n",
       "      <th>17</th>\n",
       "      <td>0.321355</td>\n",
       "      <td>0.857251</td>\n",
       "      <td>0.389655</td>\n",
       "      <td>0.837883</td>\n",
       "    </tr>\n",
       "    <tr>\n",
       "      <th>18</th>\n",
       "      <td>0.325213</td>\n",
       "      <td>0.856734</td>\n",
       "      <td>0.338634</td>\n",
       "      <td>0.849187</td>\n",
       "    </tr>\n",
       "    <tr>\n",
       "      <th>19</th>\n",
       "      <td>0.320533</td>\n",
       "      <td>0.858561</td>\n",
       "      <td>0.328897</td>\n",
       "      <td>0.847257</td>\n",
       "    </tr>\n",
       "  </tbody>\n",
       "</table>\n",
       "</div>"
      ],
      "text/plain": [
       "        loss  binary_accuracy  val_loss  val_binary_accuracy\n",
       "0   0.556236         0.770299  0.522869             0.723463\n",
       "1   0.439416         0.792528  0.411617             0.802316\n",
       "2   0.413420         0.808002  0.438317             0.784946\n",
       "3   0.407451         0.814447  0.435602             0.785498\n",
       "4   0.406593         0.815171  0.410797             0.804797\n",
       "5   0.387832         0.819996  0.373119             0.829611\n",
       "6   0.375265         0.832506  0.365948             0.830163\n",
       "7   0.366573         0.837814  0.372371             0.827130\n",
       "8   0.359826         0.842225  0.441023             0.791563\n",
       "9   0.357492         0.839744  0.360056             0.840088\n",
       "10  0.346617         0.846016  0.344027             0.842570\n",
       "11  0.347233         0.846050  0.365801             0.836504\n",
       "12  0.334504         0.852495  0.347526             0.842845\n",
       "13  0.333800         0.852668  0.386491             0.830990\n",
       "14  0.358409         0.846567  0.372524             0.828784\n",
       "15  0.339797         0.851703  0.355795             0.843672\n",
       "16  0.329012         0.855252  0.349307             0.849187\n",
       "17  0.321355         0.857251  0.389655             0.837883\n",
       "18  0.325213         0.856734  0.338634             0.849187\n",
       "19  0.320533         0.858561  0.328897             0.847257"
      ]
     },
     "execution_count": 35,
     "metadata": {},
     "output_type": "execute_result"
    }
   ],
   "source": [
    "from playsound import playsound\n",
    "history = model.fit(X_train, t_train, batch_size=32, epochs=20, verbose=0, validation_data=(\n",
    "    X_val, t_val))\n",
    "logs = pd.DataFrame(history.history)\n",
    "playsound('/Users/paul/Downloads/joyous-chime-notification.mp3')\n",
    "logs"
   ]
  },
  {
   "cell_type": "code",
   "execution_count": 36,
   "metadata": {},
   "outputs": [
    {
     "data": {
      "image/png": "[encoded data removed]",
      "text/plain": [
       "<Figure size 800x500 with 1 Axes>"
      ]
     },
     "metadata": {},
     "output_type": "display_data"
    }
   ],
   "source": [
    "results = pd.DataFrame(history.history)\n",
    "results.plot(figsize=(8, 5))\n",
    "plt.grid(True)\n",
    "plt.xlabel(\"Epochs\")\n",
    "plt.ylabel(\"Accuracy - Mean Log Loss\")\n",
    "plt.gca().set_ylim(0, 1)  # set the vertical range to [0-1]\n",
    "plt.show()"
   ]
  },
  {
   "cell_type": "code",
   "execution_count": 37,
   "metadata": {},
   "outputs": [],
   "source": [
    "model.compile(loss=keras.losses.binary_crossentropy,\n",
    "              optimizer=keras.optimizers.legacy.Adam(learning_rate=0.0001),\n",
    "              metrics=keras.metrics.binary_accuracy)"
   ]
  },
  {
   "cell_type": "code",
   "execution_count": 38,
   "metadata": {},
   "outputs": [
    {
     "name": "stderr",
     "output_type": "stream",
     "text": [
      "2023-11-14 17:38:58.888437: I tensorflow/core/grappler/optimizers/custom_graph_optimizer_registry.cc:114] Plugin optimizer for device_type GPU is enabled.\n",
      "2023-11-14 17:39:16.203036: I tensorflow/core/grappler/optimizers/custom_graph_optimizer_registry.cc:114] Plugin optimizer for device_type GPU is enabled.\n"
     ]
    },
    {
     "data": {
      "text/html": [
       "<div>\n",
       "<style scoped>\n",
       "    .dataframe tbody tr th:only-of-type {\n",
       "        vertical-align: middle;\n",
       "    }\n",
       "\n",
       "    .dataframe tbody tr th {\n",
       "        vertical-align: top;\n",
       "    }\n",
       "\n",
       "    .dataframe thead th {\n",
       "        text-align: right;\n",
       "    }\n",
       "</style>\n",
       "<table border=\"1\" class=\"dataframe\">\n",
       "  <thead>\n",
       "    <tr style=\"text-align: right;\">\n",
       "      <th></th>\n",
       "      <th>loss</th>\n",
       "      <th>binary_accuracy</th>\n",
       "      <th>val_loss</th>\n",
       "      <th>val_binary_accuracy</th>\n",
       "    </tr>\n",
       "  </thead>\n",
       "  <tbody>\n",
       "    <tr>\n",
       "      <th>0</th>\n",
       "      <td>0.284407</td>\n",
       "      <td>0.875482</td>\n",
       "      <td>0.319004</td>\n",
       "      <td>0.856079</td>\n",
       "    </tr>\n",
       "    <tr>\n",
       "      <th>1</th>\n",
       "      <td>0.276435</td>\n",
       "      <td>0.877171</td>\n",
       "      <td>0.321929</td>\n",
       "      <td>0.860215</td>\n",
       "    </tr>\n",
       "    <tr>\n",
       "      <th>2</th>\n",
       "      <td>0.273524</td>\n",
       "      <td>0.880101</td>\n",
       "      <td>0.323676</td>\n",
       "      <td>0.859939</td>\n",
       "    </tr>\n",
       "    <tr>\n",
       "      <th>3</th>\n",
       "      <td>0.269893</td>\n",
       "      <td>0.879997</td>\n",
       "      <td>0.328426</td>\n",
       "      <td>0.856355</td>\n",
       "    </tr>\n",
       "    <tr>\n",
       "      <th>4</th>\n",
       "      <td>0.267990</td>\n",
       "      <td>0.879549</td>\n",
       "      <td>0.336434</td>\n",
       "      <td>0.852219</td>\n",
       "    </tr>\n",
       "    <tr>\n",
       "      <th>5</th>\n",
       "      <td>0.267003</td>\n",
       "      <td>0.882237</td>\n",
       "      <td>0.329683</td>\n",
       "      <td>0.858009</td>\n",
       "    </tr>\n",
       "    <tr>\n",
       "      <th>6</th>\n",
       "      <td>0.263372</td>\n",
       "      <td>0.883065</td>\n",
       "      <td>0.327662</td>\n",
       "      <td>0.861869</td>\n",
       "    </tr>\n",
       "    <tr>\n",
       "      <th>7</th>\n",
       "      <td>0.261235</td>\n",
       "      <td>0.882548</td>\n",
       "      <td>0.335511</td>\n",
       "      <td>0.856079</td>\n",
       "    </tr>\n",
       "    <tr>\n",
       "      <th>8</th>\n",
       "      <td>0.261470</td>\n",
       "      <td>0.883685</td>\n",
       "      <td>0.326393</td>\n",
       "      <td>0.864075</td>\n",
       "    </tr>\n",
       "    <tr>\n",
       "      <th>9</th>\n",
       "      <td>0.258803</td>\n",
       "      <td>0.884064</td>\n",
       "      <td>0.333270</td>\n",
       "      <td>0.861042</td>\n",
       "    </tr>\n",
       "  </tbody>\n",
       "</table>\n",
       "</div>"
      ],
      "text/plain": [
       "       loss  binary_accuracy  val_loss  val_binary_accuracy\n",
       "0  0.284407         0.875482  0.319004             0.856079\n",
       "1  0.276435         0.877171  0.321929             0.860215\n",
       "2  0.273524         0.880101  0.323676             0.859939\n",
       "3  0.269893         0.879997  0.328426             0.856355\n",
       "4  0.267990         0.879549  0.336434             0.852219\n",
       "5  0.267003         0.882237  0.329683             0.858009\n",
       "6  0.263372         0.883065  0.327662             0.861869\n",
       "7  0.261235         0.882548  0.335511             0.856079\n",
       "8  0.261470         0.883685  0.326393             0.864075\n",
       "9  0.258803         0.884064  0.333270             0.861042"
      ]
     },
     "execution_count": 38,
     "metadata": {},
     "output_type": "execute_result"
    }
   ],
   "source": [
    "history = model.fit(X_train, t_train, batch_size=32, epochs=10, verbose=0, validation_data=(\n",
    "    X_val, t_val))\n",
    "logs = pd.DataFrame(history.history)\n",
    "playsound('/Users/paul/Downloads/joyous-chime-notification.mp3')\n",
    "logs"
   ]
  },
  {
   "cell_type": "code",
   "execution_count": 39,
   "metadata": {},
   "outputs": [
    {
     "data": {
      "image/png": "[encoded data removed]",
      "text/plain": [
       "<Figure size 800x500 with 1 Axes>"
      ]
     },
     "metadata": {},
     "output_type": "display_data"
    }
   ],
   "source": [
    "results = pd.DataFrame(history.history)\n",
    "results.plot(figsize=(8, 5))\n",
    "plt.grid(True)\n",
    "plt.xlabel(\"Epochs\")\n",
    "plt.ylabel(\"Accuracy - Mean Log Loss\")\n",
    "plt.gca().set_ylim(0, 1)  # set the vertical range to [0-1]\n",
    "plt.show()"
   ]
  },
  {
   "cell_type": "code",
   "execution_count": 40,
   "metadata": {},
   "outputs": [],
   "source": [
    "model.compile(loss=keras.losses.binary_crossentropy,\n",
    "              optimizer=keras.optimizers.legacy.Adam(learning_rate=0.00001),\n",
    "              metrics=keras.metrics.binary_accuracy)"
   ]
  },
  {
   "cell_type": "code",
   "execution_count": 41,
   "metadata": {},
   "outputs": [
    {
     "name": "stderr",
     "output_type": "stream",
     "text": [
      "2023-11-14 17:43:14.709412: I tensorflow/core/grappler/optimizers/custom_graph_optimizer_registry.cc:114] Plugin optimizer for device_type GPU is enabled.\n",
      "2023-11-14 17:43:32.453071: I tensorflow/core/grappler/optimizers/custom_graph_optimizer_registry.cc:114] Plugin optimizer for device_type GPU is enabled.\n"
     ]
    },
    {
     "data": {
      "text/html": [
       "<div>\n",
       "<style scoped>\n",
       "    .dataframe tbody tr th:only-of-type {\n",
       "        vertical-align: middle;\n",
       "    }\n",
       "\n",
       "    .dataframe tbody tr th {\n",
       "        vertical-align: top;\n",
       "    }\n",
       "\n",
       "    .dataframe thead th {\n",
       "        text-align: right;\n",
       "    }\n",
       "</style>\n",
       "<table border=\"1\" class=\"dataframe\">\n",
       "  <thead>\n",
       "    <tr style=\"text-align: right;\">\n",
       "      <th></th>\n",
       "      <th>loss</th>\n",
       "      <th>binary_accuracy</th>\n",
       "      <th>val_loss</th>\n",
       "      <th>val_binary_accuracy</th>\n",
       "    </tr>\n",
       "  </thead>\n",
       "  <tbody>\n",
       "    <tr>\n",
       "      <th>0</th>\n",
       "      <td>0.253006</td>\n",
       "      <td>0.887028</td>\n",
       "      <td>0.326715</td>\n",
       "      <td>0.861594</td>\n",
       "    </tr>\n",
       "    <tr>\n",
       "      <th>1</th>\n",
       "      <td>0.251551</td>\n",
       "      <td>0.887510</td>\n",
       "      <td>0.328010</td>\n",
       "      <td>0.863248</td>\n",
       "    </tr>\n",
       "    <tr>\n",
       "      <th>2</th>\n",
       "      <td>0.251141</td>\n",
       "      <td>0.887441</td>\n",
       "      <td>0.328983</td>\n",
       "      <td>0.864075</td>\n",
       "    </tr>\n",
       "    <tr>\n",
       "      <th>3</th>\n",
       "      <td>0.250170</td>\n",
       "      <td>0.887821</td>\n",
       "      <td>0.326905</td>\n",
       "      <td>0.862145</td>\n",
       "    </tr>\n",
       "    <tr>\n",
       "      <th>4</th>\n",
       "      <td>0.250773</td>\n",
       "      <td>0.887683</td>\n",
       "      <td>0.329107</td>\n",
       "      <td>0.864626</td>\n",
       "    </tr>\n",
       "    <tr>\n",
       "      <th>5</th>\n",
       "      <td>0.250579</td>\n",
       "      <td>0.887579</td>\n",
       "      <td>0.328490</td>\n",
       "      <td>0.862145</td>\n",
       "    </tr>\n",
       "    <tr>\n",
       "      <th>6</th>\n",
       "      <td>0.249189</td>\n",
       "      <td>0.889199</td>\n",
       "      <td>0.328362</td>\n",
       "      <td>0.863799</td>\n",
       "    </tr>\n",
       "    <tr>\n",
       "      <th>7</th>\n",
       "      <td>0.248416</td>\n",
       "      <td>0.888475</td>\n",
       "      <td>0.330369</td>\n",
       "      <td>0.863799</td>\n",
       "    </tr>\n",
       "    <tr>\n",
       "      <th>8</th>\n",
       "      <td>0.250034</td>\n",
       "      <td>0.887924</td>\n",
       "      <td>0.329911</td>\n",
       "      <td>0.862972</td>\n",
       "    </tr>\n",
       "    <tr>\n",
       "      <th>9</th>\n",
       "      <td>0.248490</td>\n",
       "      <td>0.889888</td>\n",
       "      <td>0.329796</td>\n",
       "      <td>0.863524</td>\n",
       "    </tr>\n",
       "  </tbody>\n",
       "</table>\n",
       "</div>"
      ],
      "text/plain": [
       "       loss  binary_accuracy  val_loss  val_binary_accuracy\n",
       "0  0.253006         0.887028  0.326715             0.861594\n",
       "1  0.251551         0.887510  0.328010             0.863248\n",
       "2  0.251141         0.887441  0.328983             0.864075\n",
       "3  0.250170         0.887821  0.326905             0.862145\n",
       "4  0.250773         0.887683  0.329107             0.864626\n",
       "5  0.250579         0.887579  0.328490             0.862145\n",
       "6  0.249189         0.889199  0.328362             0.863799\n",
       "7  0.248416         0.888475  0.330369             0.863799\n",
       "8  0.250034         0.887924  0.329911             0.862972\n",
       "9  0.248490         0.889888  0.329796             0.863524"
      ]
     },
     "execution_count": 41,
     "metadata": {},
     "output_type": "execute_result"
    }
   ],
   "source": [
    "history = model.fit(X_train, t_train, batch_size=32, epochs=10, verbose=0, validation_data=(\n",
    "    X_val, t_val))\n",
    "logs = pd.DataFrame(history.history)\n",
    "playsound('/Users/paul/Downloads/joyous-chime-notification.mp3')\n",
    "logs"
   ]
  },
  {
   "cell_type": "code",
   "execution_count": 49,
   "metadata": {},
   "outputs": [
    {
     "data": {
      "text/plain": [
       "2.536531686782837"
      ]
     },
     "execution_count": 49,
     "metadata": {},
     "output_type": "execute_result"
    }
   ],
   "source": [
    "compute_ovefitting(history)"
   ]
  },
  {
   "cell_type": "code",
   "execution_count": 42,
   "metadata": {},
   "outputs": [
    {
     "data": {
      "image/png": "[encoded data removed]",
      "text/plain": [
       "<Figure size 800x500 with 1 Axes>"
      ]
     },
     "metadata": {},
     "output_type": "display_data"
    }
   ],
   "source": [
    "results = pd.DataFrame(history.history)\n",
    "results.plot(figsize=(8, 5))\n",
    "plt.grid(True)\n",
    "plt.xlabel(\"Epochs\")\n",
    "plt.ylabel(\"Accuracy - Mean Log Loss\")\n",
    "plt.gca().set_ylim(0, 1)  # set the vertical range to [0-1]\n",
    "plt.show()"
   ]
  },
  {
   "attachments": {
    "image.png": {
     "image/png": "[encoded data removed]"
    }
   },
   "cell_type": "markdown",
   "metadata": {},
   "source": [
    "![image.png](attachment:image.png)"
   ]
  },
  {
   "cell_type": "markdown",
   "metadata": {},
   "source": [
    "## Attempt 13"
   ]
  },
  {
   "cell_type": "markdown",
   "metadata": {},
   "source": [
    "IDEA : Increase model size to 1500 perceptrons per layer?"
   ]
  },
  {
   "cell_type": "code",
   "execution_count": 8,
   "metadata": {},
   "outputs": [
    {
     "name": "stdout",
     "output_type": "stream",
     "text": [
      "Model: \"Model10\"\n",
      "_________________________________________________________________\n",
      " Layer (type)                Output Shape              Param #   \n",
      "=================================================================\n",
      " dense (Dense)               (None, 1536)              26112     \n",
      "                                                                 \n",
      " dropout (Dropout)           (None, 1536)              0         \n",
      "                                                                 \n",
      " dense_1 (Dense)             (None, 1536)              2360832   \n",
      "                                                                 \n",
      " dropout_1 (Dropout)         (None, 1536)              0         \n",
      "                                                                 \n",
      " dense_2 (Dense)             (None, 1536)              2360832   \n",
      "                                                                 \n",
      " dropout_2 (Dropout)         (None, 1536)              0         \n",
      "                                                                 \n",
      " dense_3 (Dense)             (None, 1536)              2360832   \n",
      "                                                                 \n",
      " dropout_3 (Dropout)         (None, 1536)              0         \n",
      "                                                                 \n",
      " dense_4 (Dense)             (None, 1)                 1537      \n",
      "                                                                 \n",
      "=================================================================\n",
      "Total params: 7110145 (27.12 MB)\n",
      "Trainable params: 7110145 (27.12 MB)\n",
      "Non-trainable params: 0 (0.00 Byte)\n",
      "_________________________________________________________________\n"
     ]
    },
    {
     "name": "stderr",
     "output_type": "stream",
     "text": [
      "2023-11-14 18:20:24.141628: I metal_plugin/src/device/metal_device.cc:1154] Metal device set to: Apple M1\n",
      "2023-11-14 18:20:24.141649: I metal_plugin/src/device/metal_device.cc:296] systemMemory: 16.00 GB\n",
      "2023-11-14 18:20:24.141653: I metal_plugin/src/device/metal_device.cc:313] maxCacheSize: 5.33 GB\n",
      "2023-11-14 18:20:24.141679: I tensorflow/core/common_runtime/pluggable_device/pluggable_device_factory.cc:303] Could not identify NUMA node of platform GPU ID 0, defaulting to 0. Your kernel may not have been built with NUMA support.\n",
      "2023-11-14 18:20:24.141693: I tensorflow/core/common_runtime/pluggable_device/pluggable_device_factory.cc:269] Created TensorFlow device (/job:localhost/replica:0/task:0/device:GPU:0 with 0 MB memory) -> physical PluggableDevice (device: 0, name: METAL, pci bus id: <undefined>)\n"
     ]
    }
   ],
   "source": [
    "from keras.models import Sequential\n",
    "\n",
    "model = Sequential(name='Model10')\n",
    "\n",
    "model.add(keras.layers.Input(shape=input_shape))\n",
    "model.add(keras.layers.Dense(units=1536,\n",
    "                             activation=keras.activations.elu,\n",
    "                             kernel_initializer=keras.initializers.HeNormal(seed=seed)))\n",
    "model.add(keras.layers.Dropout(0.15))\n",
    "model.add(keras.layers.Dense(units=1536,\n",
    "                             activation=keras.activations.elu,\n",
    "                             kernel_initializer=keras.initializers.HeNormal(seed=seed)))\n",
    "model.add(keras.layers.Dropout(0.15))\n",
    "model.add(keras.layers.Dense( units=1536,\n",
    "                             activation=keras.activations.elu,\n",
    "                             kernel_initializer=keras.initializers.HeNormal(seed=seed)))\n",
    "model.add(keras.layers.Dropout(0.15))\n",
    "model.add(keras.layers.Dense(units=1536,\n",
    "                             activation=keras.activations.elu,\n",
    "                             kernel_initializer=keras.initializers.HeNormal(seed=seed)))\n",
    "model.add(keras.layers.Dropout(0.15))\n",
    "model.add(keras.layers.Dense(units=output_shape, activation=keras.activations.sigmoid,\n",
    "                             kernel_initializer=keras.initializers.GlorotNormal(seed=seed)))\n",
    "model.summary()"
   ]
  },
  {
   "cell_type": "code",
   "execution_count": 9,
   "metadata": {},
   "outputs": [],
   "source": [
    "model.compile(loss=keras.losses.binary_crossentropy,\n",
    "              optimizer=keras.optimizers.legacy.Adam(learning_rate=0.001),\n",
    "              metrics=keras.metrics.binary_accuracy)"
   ]
  },
  {
   "cell_type": "code",
   "execution_count": 10,
   "metadata": {},
   "outputs": [
    {
     "name": "stderr",
     "output_type": "stream",
     "text": [
      "2023-11-14 18:20:24.745140: I tensorflow/core/grappler/optimizers/custom_graph_optimizer_registry.cc:114] Plugin optimizer for device_type GPU is enabled.\n",
      "2023-11-14 18:20:45.243185: I tensorflow/core/grappler/optimizers/custom_graph_optimizer_registry.cc:114] Plugin optimizer for device_type GPU is enabled.\n"
     ]
    },
    {
     "data": {
      "text/html": [
       "<div>\n",
       "<style scoped>\n",
       "    .dataframe tbody tr th:only-of-type {\n",
       "        vertical-align: middle;\n",
       "    }\n",
       "\n",
       "    .dataframe tbody tr th {\n",
       "        vertical-align: top;\n",
       "    }\n",
       "\n",
       "    .dataframe thead th {\n",
       "        text-align: right;\n",
       "    }\n",
       "</style>\n",
       "<table border=\"1\" class=\"dataframe\">\n",
       "  <thead>\n",
       "    <tr style=\"text-align: right;\">\n",
       "      <th></th>\n",
       "      <th>loss</th>\n",
       "      <th>binary_accuracy</th>\n",
       "      <th>val_loss</th>\n",
       "      <th>val_binary_accuracy</th>\n",
       "    </tr>\n",
       "  </thead>\n",
       "  <tbody>\n",
       "    <tr>\n",
       "      <th>0</th>\n",
       "      <td>0.539632</td>\n",
       "      <td>0.765336</td>\n",
       "      <td>0.430039</td>\n",
       "      <td>0.793493</td>\n",
       "    </tr>\n",
       "    <tr>\n",
       "      <th>1</th>\n",
       "      <td>0.441936</td>\n",
       "      <td>0.791839</td>\n",
       "      <td>0.430670</td>\n",
       "      <td>0.785222</td>\n",
       "    </tr>\n",
       "    <tr>\n",
       "      <th>2</th>\n",
       "      <td>0.430663</td>\n",
       "      <td>0.798835</td>\n",
       "      <td>0.417000</td>\n",
       "      <td>0.800110</td>\n",
       "    </tr>\n",
       "    <tr>\n",
       "      <th>3</th>\n",
       "      <td>0.420007</td>\n",
       "      <td>0.806762</td>\n",
       "      <td>0.387349</td>\n",
       "      <td>0.810312</td>\n",
       "    </tr>\n",
       "    <tr>\n",
       "      <th>4</th>\n",
       "      <td>0.403814</td>\n",
       "      <td>0.814171</td>\n",
       "      <td>0.377738</td>\n",
       "      <td>0.822719</td>\n",
       "    </tr>\n",
       "    <tr>\n",
       "      <th>5</th>\n",
       "      <td>0.388165</td>\n",
       "      <td>0.824821</td>\n",
       "      <td>0.369048</td>\n",
       "      <td>0.827957</td>\n",
       "    </tr>\n",
       "    <tr>\n",
       "      <th>6</th>\n",
       "      <td>0.385972</td>\n",
       "      <td>0.827578</td>\n",
       "      <td>0.534490</td>\n",
       "      <td>0.839261</td>\n",
       "    </tr>\n",
       "    <tr>\n",
       "      <th>7</th>\n",
       "      <td>0.399570</td>\n",
       "      <td>0.824373</td>\n",
       "      <td>0.359631</td>\n",
       "      <td>0.833471</td>\n",
       "    </tr>\n",
       "    <tr>\n",
       "      <th>8</th>\n",
       "      <td>0.369266</td>\n",
       "      <td>0.835815</td>\n",
       "      <td>0.430374</td>\n",
       "      <td>0.802040</td>\n",
       "    </tr>\n",
       "    <tr>\n",
       "      <th>9</th>\n",
       "      <td>0.360830</td>\n",
       "      <td>0.838985</td>\n",
       "      <td>0.379280</td>\n",
       "      <td>0.828784</td>\n",
       "    </tr>\n",
       "  </tbody>\n",
       "</table>\n",
       "</div>"
      ],
      "text/plain": [
       "       loss  binary_accuracy  val_loss  val_binary_accuracy\n",
       "0  0.539632         0.765336  0.430039             0.793493\n",
       "1  0.441936         0.791839  0.430670             0.785222\n",
       "2  0.430663         0.798835  0.417000             0.800110\n",
       "3  0.420007         0.806762  0.387349             0.810312\n",
       "4  0.403814         0.814171  0.377738             0.822719\n",
       "5  0.388165         0.824821  0.369048             0.827957\n",
       "6  0.385972         0.827578  0.534490             0.839261\n",
       "7  0.399570         0.824373  0.359631             0.833471\n",
       "8  0.369266         0.835815  0.430374             0.802040\n",
       "9  0.360830         0.838985  0.379280             0.828784"
      ]
     },
     "execution_count": 10,
     "metadata": {},
     "output_type": "execute_result"
    }
   ],
   "source": [
    "history = model.fit(X_train, t_train, batch_size=32, epochs=10, verbose=0, validation_data=(\n",
    "    X_val, t_val))\n",
    "logs = pd.DataFrame(history.history)\n"
   ]
  },
  {
   "cell_type": "code",
   "execution_count": 11,
   "metadata": {},
   "outputs": [
    {
     "data": {
      "text/plain": [
       "0.40115833282470703"
      ]
     },
     "execution_count": 11,
     "metadata": {},
     "output_type": "execute_result"
    }
   ],
   "source": [
    "compute_ovefitting(history)"
   ]
  },
  {
   "cell_type": "code",
   "execution_count": 12,
   "metadata": {},
   "outputs": [
    {
     "data": {
      "image/png": "[encoded data removed]",
      "text/plain": [
       "<Figure size 800x500 with 1 Axes>"
      ]
     },
     "metadata": {},
     "output_type": "display_data"
    }
   ],
   "source": [
    "results = pd.DataFrame(history.history)\n",
    "results.plot(figsize=(8, 5))\n",
    "plt.grid(True)\n",
    "plt.xlabel(\"Epochs\")\n",
    "plt.ylabel(\"Accuracy - Mean Log Loss\")\n",
    "plt.gca().set_ylim(0, 1)  # set the vertical range to [0-1]\n",
    "plt.show()"
   ]
  },
  {
   "cell_type": "code",
   "execution_count": 13,
   "metadata": {},
   "outputs": [],
   "source": [
    "model.compile(loss=keras.losses.binary_crossentropy,\n",
    "              optimizer=keras.optimizers.legacy.Adam(learning_rate=0.0001),\n",
    "              metrics=keras.metrics.binary_accuracy)"
   ]
  },
  {
   "cell_type": "code",
   "execution_count": 14,
   "metadata": {},
   "outputs": [
    {
     "name": "stderr",
     "output_type": "stream",
     "text": [
      "2023-11-14 18:23:50.198978: I tensorflow/core/grappler/optimizers/custom_graph_optimizer_registry.cc:114] Plugin optimizer for device_type GPU is enabled.\n",
      "2023-11-14 18:24:09.534438: I tensorflow/core/grappler/optimizers/custom_graph_optimizer_registry.cc:114] Plugin optimizer for device_type GPU is enabled.\n"
     ]
    },
    {
     "data": {
      "text/html": [
       "<div>\n",
       "<style scoped>\n",
       "    .dataframe tbody tr th:only-of-type {\n",
       "        vertical-align: middle;\n",
       "    }\n",
       "\n",
       "    .dataframe tbody tr th {\n",
       "        vertical-align: top;\n",
       "    }\n",
       "\n",
       "    .dataframe thead th {\n",
       "        text-align: right;\n",
       "    }\n",
       "</style>\n",
       "<table border=\"1\" class=\"dataframe\">\n",
       "  <thead>\n",
       "    <tr style=\"text-align: right;\">\n",
       "      <th></th>\n",
       "      <th>loss</th>\n",
       "      <th>binary_accuracy</th>\n",
       "      <th>val_loss</th>\n",
       "      <th>val_binary_accuracy</th>\n",
       "    </tr>\n",
       "  </thead>\n",
       "  <tbody>\n",
       "    <tr>\n",
       "      <th>0</th>\n",
       "      <td>0.316166</td>\n",
       "      <td>0.860422</td>\n",
       "      <td>0.332404</td>\n",
       "      <td>0.846981</td>\n",
       "    </tr>\n",
       "    <tr>\n",
       "      <th>1</th>\n",
       "      <td>0.308173</td>\n",
       "      <td>0.863627</td>\n",
       "      <td>0.331518</td>\n",
       "      <td>0.852219</td>\n",
       "    </tr>\n",
       "    <tr>\n",
       "      <th>2</th>\n",
       "      <td>0.304395</td>\n",
       "      <td>0.866143</td>\n",
       "      <td>0.331053</td>\n",
       "      <td>0.854149</td>\n",
       "    </tr>\n",
       "    <tr>\n",
       "      <th>3</th>\n",
       "      <td>0.303661</td>\n",
       "      <td>0.866177</td>\n",
       "      <td>0.329580</td>\n",
       "      <td>0.850014</td>\n",
       "    </tr>\n",
       "    <tr>\n",
       "      <th>4</th>\n",
       "      <td>0.296792</td>\n",
       "      <td>0.868348</td>\n",
       "      <td>0.330817</td>\n",
       "      <td>0.857182</td>\n",
       "    </tr>\n",
       "    <tr>\n",
       "      <th>5</th>\n",
       "      <td>0.296662</td>\n",
       "      <td>0.868245</td>\n",
       "      <td>0.329901</td>\n",
       "      <td>0.853598</td>\n",
       "    </tr>\n",
       "    <tr>\n",
       "      <th>6</th>\n",
       "      <td>0.293836</td>\n",
       "      <td>0.869245</td>\n",
       "      <td>0.331455</td>\n",
       "      <td>0.849462</td>\n",
       "    </tr>\n",
       "    <tr>\n",
       "      <th>7</th>\n",
       "      <td>0.292198</td>\n",
       "      <td>0.870106</td>\n",
       "      <td>0.326988</td>\n",
       "      <td>0.854701</td>\n",
       "    </tr>\n",
       "    <tr>\n",
       "      <th>8</th>\n",
       "      <td>0.288897</td>\n",
       "      <td>0.869107</td>\n",
       "      <td>0.340618</td>\n",
       "      <td>0.850014</td>\n",
       "    </tr>\n",
       "    <tr>\n",
       "      <th>9</th>\n",
       "      <td>0.287274</td>\n",
       "      <td>0.871588</td>\n",
       "      <td>0.337806</td>\n",
       "      <td>0.856631</td>\n",
       "    </tr>\n",
       "  </tbody>\n",
       "</table>\n",
       "</div>"
      ],
      "text/plain": [
       "       loss  binary_accuracy  val_loss  val_binary_accuracy\n",
       "0  0.316166         0.860422  0.332404             0.846981\n",
       "1  0.308173         0.863627  0.331518             0.852219\n",
       "2  0.304395         0.866143  0.331053             0.854149\n",
       "3  0.303661         0.866177  0.329580             0.850014\n",
       "4  0.296792         0.868348  0.330817             0.857182\n",
       "5  0.296662         0.868245  0.329901             0.853598\n",
       "6  0.293836         0.869245  0.331455             0.849462\n",
       "7  0.292198         0.870106  0.326988             0.854701\n",
       "8  0.288897         0.869107  0.340618             0.850014\n",
       "9  0.287274         0.871588  0.337806             0.856631"
      ]
     },
     "execution_count": 14,
     "metadata": {},
     "output_type": "execute_result"
    }
   ],
   "source": [
    "history = model.fit(X_train, t_train, batch_size=32, epochs=5, verbose=0, validation_data=(\n",
    "    X_val, t_val))\n",
    "logs = pd.DataFrame(history.history)\n",
    "logs"
   ]
  },
  {
   "cell_type": "code",
   "execution_count": 17,
   "metadata": {},
   "outputs": [
    {
     "data": {
      "text/plain": [
       "1.4805620908737183"
      ]
     },
     "execution_count": 17,
     "metadata": {},
     "output_type": "execute_result"
    }
   ],
   "source": [
    "compute_ovefitting(history, range=10)"
   ]
  },
  {
   "cell_type": "code",
   "execution_count": 15,
   "metadata": {},
   "outputs": [
    {
     "data": {
      "image/png": "[encoded data removed]",
      "text/plain": [
       "<Figure size 800x500 with 1 Axes>"
      ]
     },
     "metadata": {},
     "output_type": "display_data"
    }
   ],
   "source": [
    "results = pd.DataFrame(history.history)\n",
    "results.plot(figsize=(8, 5))\n",
    "plt.grid(True)\n",
    "plt.xlabel(\"Epochs\")\n",
    "plt.ylabel(\"Accuracy - Mean Log Loss\")\n",
    "plt.gca().set_ylim(0, 1)  # set the vertical range to [0-1]\n",
    "plt.show()"
   ]
  },
  {
   "cell_type": "code",
   "execution_count": 30,
   "metadata": {},
   "outputs": [],
   "source": [
    "model.compile(loss=keras.losses.binary_crossentropy,\n",
    "              optimizer=keras.optimizers.legacy.Adam(learning_rate=.00001),\n",
    "              metrics=keras.metrics.binary_accuracy)"
   ]
  },
  {
   "cell_type": "code",
   "execution_count": 31,
   "metadata": {},
   "outputs": [
    {
     "name": "stderr",
     "output_type": "stream",
     "text": [
      "2023-11-14 18:54:23.505023: I tensorflow/core/grappler/optimizers/custom_graph_optimizer_registry.cc:114] Plugin optimizer for device_type GPU is enabled.\n",
      "2023-11-14 18:54:43.940190: I tensorflow/core/grappler/optimizers/custom_graph_optimizer_registry.cc:114] Plugin optimizer for device_type GPU is enabled.\n"
     ]
    },
    {
     "data": {
      "text/html": [
       "<div>\n",
       "<style scoped>\n",
       "    .dataframe tbody tr th:only-of-type {\n",
       "        vertical-align: middle;\n",
       "    }\n",
       "\n",
       "    .dataframe tbody tr th {\n",
       "        vertical-align: top;\n",
       "    }\n",
       "\n",
       "    .dataframe thead th {\n",
       "        text-align: right;\n",
       "    }\n",
       "</style>\n",
       "<table border=\"1\" class=\"dataframe\">\n",
       "  <thead>\n",
       "    <tr style=\"text-align: right;\">\n",
       "      <th></th>\n",
       "      <th>loss</th>\n",
       "      <th>binary_accuracy</th>\n",
       "      <th>val_loss</th>\n",
       "      <th>val_binary_accuracy</th>\n",
       "    </tr>\n",
       "  </thead>\n",
       "  <tbody>\n",
       "    <tr>\n",
       "      <th>0</th>\n",
       "      <td>0.272788</td>\n",
       "      <td>0.877344</td>\n",
       "      <td>0.344272</td>\n",
       "      <td>0.859664</td>\n",
       "    </tr>\n",
       "    <tr>\n",
       "      <th>1</th>\n",
       "      <td>0.273143</td>\n",
       "      <td>0.879342</td>\n",
       "      <td>0.344311</td>\n",
       "      <td>0.857458</td>\n",
       "    </tr>\n",
       "    <tr>\n",
       "      <th>2</th>\n",
       "      <td>0.271498</td>\n",
       "      <td>0.877585</td>\n",
       "      <td>0.340963</td>\n",
       "      <td>0.859388</td>\n",
       "    </tr>\n",
       "    <tr>\n",
       "      <th>3</th>\n",
       "      <td>0.272709</td>\n",
       "      <td>0.877723</td>\n",
       "      <td>0.342736</td>\n",
       "      <td>0.860215</td>\n",
       "    </tr>\n",
       "    <tr>\n",
       "      <th>4</th>\n",
       "      <td>0.271003</td>\n",
       "      <td>0.878136</td>\n",
       "      <td>0.344126</td>\n",
       "      <td>0.859112</td>\n",
       "    </tr>\n",
       "    <tr>\n",
       "      <th>5</th>\n",
       "      <td>0.271090</td>\n",
       "      <td>0.878205</td>\n",
       "      <td>0.344045</td>\n",
       "      <td>0.861042</td>\n",
       "    </tr>\n",
       "    <tr>\n",
       "      <th>6</th>\n",
       "      <td>0.271379</td>\n",
       "      <td>0.877447</td>\n",
       "      <td>0.343400</td>\n",
       "      <td>0.858285</td>\n",
       "    </tr>\n",
       "    <tr>\n",
       "      <th>7</th>\n",
       "      <td>0.270638</td>\n",
       "      <td>0.878343</td>\n",
       "      <td>0.342260</td>\n",
       "      <td>0.858837</td>\n",
       "    </tr>\n",
       "    <tr>\n",
       "      <th>8</th>\n",
       "      <td>0.269878</td>\n",
       "      <td>0.878757</td>\n",
       "      <td>0.342645</td>\n",
       "      <td>0.861042</td>\n",
       "    </tr>\n",
       "    <tr>\n",
       "      <th>9</th>\n",
       "      <td>0.269391</td>\n",
       "      <td>0.879756</td>\n",
       "      <td>0.344838</td>\n",
       "      <td>0.862972</td>\n",
       "    </tr>\n",
       "    <tr>\n",
       "      <th>10</th>\n",
       "      <td>0.269054</td>\n",
       "      <td>0.878757</td>\n",
       "      <td>0.343385</td>\n",
       "      <td>0.861042</td>\n",
       "    </tr>\n",
       "    <tr>\n",
       "      <th>11</th>\n",
       "      <td>0.269427</td>\n",
       "      <td>0.879618</td>\n",
       "      <td>0.346413</td>\n",
       "      <td>0.860766</td>\n",
       "    </tr>\n",
       "    <tr>\n",
       "      <th>12</th>\n",
       "      <td>0.270087</td>\n",
       "      <td>0.878343</td>\n",
       "      <td>0.346778</td>\n",
       "      <td>0.862972</td>\n",
       "    </tr>\n",
       "    <tr>\n",
       "      <th>13</th>\n",
       "      <td>0.269261</td>\n",
       "      <td>0.880859</td>\n",
       "      <td>0.343515</td>\n",
       "      <td>0.860766</td>\n",
       "    </tr>\n",
       "    <tr>\n",
       "      <th>14</th>\n",
       "      <td>0.268245</td>\n",
       "      <td>0.879859</td>\n",
       "      <td>0.345409</td>\n",
       "      <td>0.861318</td>\n",
       "    </tr>\n",
       "    <tr>\n",
       "      <th>15</th>\n",
       "      <td>0.267341</td>\n",
       "      <td>0.879308</td>\n",
       "      <td>0.346449</td>\n",
       "      <td>0.861594</td>\n",
       "    </tr>\n",
       "    <tr>\n",
       "      <th>16</th>\n",
       "      <td>0.268179</td>\n",
       "      <td>0.878894</td>\n",
       "      <td>0.345319</td>\n",
       "      <td>0.862696</td>\n",
       "    </tr>\n",
       "    <tr>\n",
       "      <th>17</th>\n",
       "      <td>0.266445</td>\n",
       "      <td>0.879825</td>\n",
       "      <td>0.346776</td>\n",
       "      <td>0.862421</td>\n",
       "    </tr>\n",
       "    <tr>\n",
       "      <th>18</th>\n",
       "      <td>0.266995</td>\n",
       "      <td>0.879136</td>\n",
       "      <td>0.348258</td>\n",
       "      <td>0.862696</td>\n",
       "    </tr>\n",
       "    <tr>\n",
       "      <th>19</th>\n",
       "      <td>0.264792</td>\n",
       "      <td>0.881135</td>\n",
       "      <td>0.347240</td>\n",
       "      <td>0.860766</td>\n",
       "    </tr>\n",
       "    <tr>\n",
       "      <th>20</th>\n",
       "      <td>0.266160</td>\n",
       "      <td>0.881031</td>\n",
       "      <td>0.347205</td>\n",
       "      <td>0.860766</td>\n",
       "    </tr>\n",
       "    <tr>\n",
       "      <th>21</th>\n",
       "      <td>0.266150</td>\n",
       "      <td>0.881135</td>\n",
       "      <td>0.346560</td>\n",
       "      <td>0.862696</td>\n",
       "    </tr>\n",
       "    <tr>\n",
       "      <th>22</th>\n",
       "      <td>0.264768</td>\n",
       "      <td>0.880687</td>\n",
       "      <td>0.347963</td>\n",
       "      <td>0.863799</td>\n",
       "    </tr>\n",
       "    <tr>\n",
       "      <th>23</th>\n",
       "      <td>0.265195</td>\n",
       "      <td>0.881479</td>\n",
       "      <td>0.347496</td>\n",
       "      <td>0.862421</td>\n",
       "    </tr>\n",
       "    <tr>\n",
       "      <th>24</th>\n",
       "      <td>0.263969</td>\n",
       "      <td>0.881410</td>\n",
       "      <td>0.346575</td>\n",
       "      <td>0.862972</td>\n",
       "    </tr>\n",
       "    <tr>\n",
       "      <th>25</th>\n",
       "      <td>0.264210</td>\n",
       "      <td>0.879549</td>\n",
       "      <td>0.344731</td>\n",
       "      <td>0.862421</td>\n",
       "    </tr>\n",
       "    <tr>\n",
       "      <th>26</th>\n",
       "      <td>0.264545</td>\n",
       "      <td>0.882685</td>\n",
       "      <td>0.346118</td>\n",
       "      <td>0.861042</td>\n",
       "    </tr>\n",
       "    <tr>\n",
       "      <th>27</th>\n",
       "      <td>0.263904</td>\n",
       "      <td>0.880755</td>\n",
       "      <td>0.349173</td>\n",
       "      <td>0.860491</td>\n",
       "    </tr>\n",
       "    <tr>\n",
       "      <th>28</th>\n",
       "      <td>0.263293</td>\n",
       "      <td>0.881169</td>\n",
       "      <td>0.345723</td>\n",
       "      <td>0.862145</td>\n",
       "    </tr>\n",
       "    <tr>\n",
       "      <th>29</th>\n",
       "      <td>0.263923</td>\n",
       "      <td>0.880721</td>\n",
       "      <td>0.345436</td>\n",
       "      <td>0.863799</td>\n",
       "    </tr>\n",
       "  </tbody>\n",
       "</table>\n",
       "</div>"
      ],
      "text/plain": [
       "        loss  binary_accuracy  val_loss  val_binary_accuracy\n",
       "0   0.272788         0.877344  0.344272             0.859664\n",
       "1   0.273143         0.879342  0.344311             0.857458\n",
       "2   0.271498         0.877585  0.340963             0.859388\n",
       "3   0.272709         0.877723  0.342736             0.860215\n",
       "4   0.271003         0.878136  0.344126             0.859112\n",
       "5   0.271090         0.878205  0.344045             0.861042\n",
       "6   0.271379         0.877447  0.343400             0.858285\n",
       "7   0.270638         0.878343  0.342260             0.858837\n",
       "8   0.269878         0.878757  0.342645             0.861042\n",
       "9   0.269391         0.879756  0.344838             0.862972\n",
       "10  0.269054         0.878757  0.343385             0.861042\n",
       "11  0.269427         0.879618  0.346413             0.860766\n",
       "12  0.270087         0.878343  0.346778             0.862972\n",
       "13  0.269261         0.880859  0.343515             0.860766\n",
       "14  0.268245         0.879859  0.345409             0.861318\n",
       "15  0.267341         0.879308  0.346449             0.861594\n",
       "16  0.268179         0.878894  0.345319             0.862696\n",
       "17  0.266445         0.879825  0.346776             0.862421\n",
       "18  0.266995         0.879136  0.348258             0.862696\n",
       "19  0.264792         0.881135  0.347240             0.860766\n",
       "20  0.266160         0.881031  0.347205             0.860766\n",
       "21  0.266150         0.881135  0.346560             0.862696\n",
       "22  0.264768         0.880687  0.347963             0.863799\n",
       "23  0.265195         0.881479  0.347496             0.862421\n",
       "24  0.263969         0.881410  0.346575             0.862972\n",
       "25  0.264210         0.879549  0.344731             0.862421\n",
       "26  0.264545         0.882685  0.346118             0.861042\n",
       "27  0.263904         0.880755  0.349173             0.860491\n",
       "28  0.263293         0.881169  0.345723             0.862145\n",
       "29  0.263923         0.880721  0.345436             0.863799"
      ]
     },
     "execution_count": 31,
     "metadata": {},
     "output_type": "execute_result"
    }
   ],
   "source": [
    "history = model.fit(X_train, t_train, batch_size=32, epochs=30, verbose=0, validation_data=(\n",
    "    X_val, t_val))\n",
    "logs = pd.DataFrame(history.history)\n",
    "logs"
   ]
  },
  {
   "cell_type": "code",
   "execution_count": 32,
   "metadata": {},
   "outputs": [
    {
     "data": {
      "text/plain": [
       "1.899641752243042"
      ]
     },
     "execution_count": 32,
     "metadata": {},
     "output_type": "execute_result"
    }
   ],
   "source": [
    "compute_ovefitting(history)"
   ]
  },
  {
   "cell_type": "code",
   "execution_count": 33,
   "metadata": {},
   "outputs": [
    {
     "data": {
      "image/png": "[encoded data removed]",
      "text/plain": [
       "<Figure size 800x500 with 1 Axes>"
      ]
     },
     "metadata": {},
     "output_type": "display_data"
    }
   ],
   "source": [
    "results = pd.DataFrame(history.history)\n",
    "results.plot(figsize=(8, 5))\n",
    "plt.grid(True)\n",
    "plt.xlabel(\"Epochs\")\n",
    "plt.ylabel(\"Accuracy - Mean Log Loss\")\n",
    "plt.gca().set_ylim(0, 1)  # set the vertical range to [0-1]\n",
    "plt.show()"
   ]
  },
  {
   "cell_type": "markdown",
   "metadata": {},
   "source": [
    "## Attempt 14\n"
   ]
  },
  {
   "cell_type": "code",
   "execution_count": 8,
   "metadata": {},
   "outputs": [
    {
     "name": "stderr",
     "output_type": "stream",
     "text": [
      "2023-11-16 16:24:53.415007: I metal_plugin/src/device/metal_device.cc:1154] Metal device set to: Apple M1\n",
      "2023-11-16 16:24:53.415036: I metal_plugin/src/device/metal_device.cc:296] systemMemory: 16.00 GB\n",
      "2023-11-16 16:24:53.415043: I metal_plugin/src/device/metal_device.cc:313] maxCacheSize: 5.33 GB\n",
      "2023-11-16 16:24:53.415555: I tensorflow/core/common_runtime/pluggable_device/pluggable_device_factory.cc:303] Could not identify NUMA node of platform GPU ID 0, defaulting to 0. Your kernel may not have been built with NUMA support.\n",
      "2023-11-16 16:24:53.415967: I tensorflow/core/common_runtime/pluggable_device/pluggable_device_factory.cc:269] Created TensorFlow device (/job:localhost/replica:0/task:0/device:GPU:0 with 0 MB memory) -> physical PluggableDevice (device: 0, name: METAL, pci bus id: <undefined>)\n"
     ]
    },
    {
     "name": "stdout",
     "output_type": "stream",
     "text": [
      "Model: \"Model10\"\n",
      "_________________________________________________________________\n",
      " Layer (type)                Output Shape              Param #   \n",
      "=================================================================\n",
      " dense (Dense)               (None, 2048)              34816     \n",
      "                                                                 \n",
      " dropout (Dropout)           (None, 2048)              0         \n",
      "                                                                 \n",
      " batch_normalization (Batch  (None, 2048)              8192      \n",
      " Normalization)                                                  \n",
      "                                                                 \n",
      " dense_1 (Dense)             (None, 2048)              4196352   \n",
      "                                                                 \n",
      " dropout_1 (Dropout)         (None, 2048)              0         \n",
      "                                                                 \n",
      " batch_normalization_1 (Bat  (None, 2048)              8192      \n",
      " chNormalization)                                                \n",
      "                                                                 \n",
      " dense_2 (Dense)             (None, 1536)              3147264   \n",
      "                                                                 \n",
      " dropout_2 (Dropout)         (None, 1536)              0         \n",
      "                                                                 \n",
      " batch_normalization_2 (Bat  (None, 1536)              6144      \n",
      " chNormalization)                                                \n",
      "                                                                 \n",
      " dense_3 (Dense)             (None, 1024)              1573888   \n",
      "                                                                 \n",
      " dropout_3 (Dropout)         (None, 1024)              0         \n",
      "                                                                 \n",
      " batch_normalization_3 (Bat  (None, 1024)              4096      \n",
      " chNormalization)                                                \n",
      "                                                                 \n",
      " dense_4 (Dense)             (None, 1)                 1025      \n",
      "                                                                 \n",
      "=================================================================\n",
      "Total params: 8979969 (34.26 MB)\n",
      "Trainable params: 8966657 (34.21 MB)\n",
      "Non-trainable params: 13312 (52.00 KB)\n",
      "_________________________________________________________________\n"
     ]
    }
   ],
   "source": [
    "from keras.models import Sequential\n",
    "\n",
    "model = Sequential(name='Model10')\n",
    "\n",
    "model.add(keras.layers.Input(shape=input_shape))\n",
    "model.add(keras.layers.Dense(units=2048,\n",
    "                             activation=keras.activations.relu,\n",
    "                             kernel_initializer=keras.initializers.HeUniform(seed=seed)))\n",
    "model.add(keras.layers.Dropout(0.1))\n",
    "model.add(keras.layers.BatchNormalization())\n",
    "model.add(keras.layers.Dense(units=2048,\n",
    "                             activation=keras.activations.elu,\n",
    "                             kernel_initializer=keras.initializers.HeUniform(seed=seed)))\n",
    "model.add(keras.layers.Dropout(0.1))\n",
    "model.add(keras.layers.BatchNormalization())\n",
    "model.add(keras.layers.Dense(units=1536,\n",
    "                             activation=keras.activations.swish,\n",
    "                             kernel_initializer=keras.initializers.GlorotUniform(seed=seed)))\n",
    "model.add(keras.layers.Dropout(0.1))\n",
    "model.add(keras.layers.BatchNormalization())\n",
    "model.add(keras.layers.Dense(units=1024,\n",
    "                             activation=keras.activations.relu,\n",
    "                             kernel_initializer=keras.initializers.HeUniform(seed=seed)))\n",
    "model.add(keras.layers.Dropout(0.1))\n",
    "model.add(keras.layers.BatchNormalization())\n",
    "model.add(keras.layers.Dense(units=output_shape, activation=keras.activations.sigmoid,\n",
    "                             kernel_initializer=keras.initializers.GlorotNormal(seed=seed)))\n",
    "model.summary()"
   ]
  },
  {
   "cell_type": "code",
   "execution_count": 9,
   "metadata": {},
   "outputs": [],
   "source": [
    "model.compile(loss=keras.losses.binary_crossentropy,\n",
    "              optimizer=keras.optimizers.legacy.Adam(learning_rate=0.001),\n",
    "              metrics=keras.metrics.binary_accuracy)"
   ]
  },
  {
   "cell_type": "code",
   "execution_count": 10,
   "metadata": {},
   "outputs": [
    {
     "name": "stderr",
     "output_type": "stream",
     "text": [
      "2023-11-16 16:25:06.387565: I tensorflow/core/grappler/optimizers/custom_graph_optimizer_registry.cc:114] Plugin optimizer for device_type GPU is enabled.\n",
      "2023-11-16 16:25:30.773812: I tensorflow/core/grappler/optimizers/custom_graph_optimizer_registry.cc:114] Plugin optimizer for device_type GPU is enabled.\n"
     ]
    },
    {
     "data": {
      "text/html": [
       "<div>\n",
       "<style scoped>\n",
       "    .dataframe tbody tr th:only-of-type {\n",
       "        vertical-align: middle;\n",
       "    }\n",
       "\n",
       "    .dataframe tbody tr th {\n",
       "        vertical-align: top;\n",
       "    }\n",
       "\n",
       "    .dataframe thead th {\n",
       "        text-align: right;\n",
       "    }\n",
       "</style>\n",
       "<table border=\"1\" class=\"dataframe\">\n",
       "  <thead>\n",
       "    <tr style=\"text-align: right;\">\n",
       "      <th></th>\n",
       "      <th>loss</th>\n",
       "      <th>binary_accuracy</th>\n",
       "      <th>val_loss</th>\n",
       "      <th>val_binary_accuracy</th>\n",
       "    </tr>\n",
       "  </thead>\n",
       "  <tbody>\n",
       "    <tr>\n",
       "      <th>0</th>\n",
       "      <td>0.505083</td>\n",
       "      <td>0.767887</td>\n",
       "      <td>0.414786</td>\n",
       "      <td>0.799559</td>\n",
       "    </tr>\n",
       "    <tr>\n",
       "      <th>1</th>\n",
       "      <td>0.437108</td>\n",
       "      <td>0.799007</td>\n",
       "      <td>0.404321</td>\n",
       "      <td>0.814171</td>\n",
       "    </tr>\n",
       "    <tr>\n",
       "      <th>2</th>\n",
       "      <td>0.420847</td>\n",
       "      <td>0.805245</td>\n",
       "      <td>0.416278</td>\n",
       "      <td>0.812517</td>\n",
       "    </tr>\n",
       "    <tr>\n",
       "      <th>3</th>\n",
       "      <td>0.408263</td>\n",
       "      <td>0.811759</td>\n",
       "      <td>0.401711</td>\n",
       "      <td>0.807554</td>\n",
       "    </tr>\n",
       "    <tr>\n",
       "      <th>4</th>\n",
       "      <td>0.402362</td>\n",
       "      <td>0.817377</td>\n",
       "      <td>0.384025</td>\n",
       "      <td>0.824648</td>\n",
       "    </tr>\n",
       "    <tr>\n",
       "      <th>5</th>\n",
       "      <td>0.396338</td>\n",
       "      <td>0.820237</td>\n",
       "      <td>0.386513</td>\n",
       "      <td>0.816101</td>\n",
       "    </tr>\n",
       "    <tr>\n",
       "      <th>6</th>\n",
       "      <td>0.385935</td>\n",
       "      <td>0.824580</td>\n",
       "      <td>0.374912</td>\n",
       "      <td>0.825200</td>\n",
       "    </tr>\n",
       "    <tr>\n",
       "      <th>7</th>\n",
       "      <td>0.383562</td>\n",
       "      <td>0.826647</td>\n",
       "      <td>0.369939</td>\n",
       "      <td>0.834298</td>\n",
       "    </tr>\n",
       "    <tr>\n",
       "      <th>8</th>\n",
       "      <td>0.381212</td>\n",
       "      <td>0.829163</td>\n",
       "      <td>0.364844</td>\n",
       "      <td>0.834023</td>\n",
       "    </tr>\n",
       "    <tr>\n",
       "      <th>9</th>\n",
       "      <td>0.374239</td>\n",
       "      <td>0.831197</td>\n",
       "      <td>0.372133</td>\n",
       "      <td>0.829887</td>\n",
       "    </tr>\n",
       "    <tr>\n",
       "      <th>10</th>\n",
       "      <td>0.370598</td>\n",
       "      <td>0.835953</td>\n",
       "      <td>0.370266</td>\n",
       "      <td>0.827130</td>\n",
       "    </tr>\n",
       "    <tr>\n",
       "      <th>11</th>\n",
       "      <td>0.364523</td>\n",
       "      <td>0.836745</td>\n",
       "      <td>0.385233</td>\n",
       "      <td>0.825200</td>\n",
       "    </tr>\n",
       "    <tr>\n",
       "      <th>12</th>\n",
       "      <td>0.365596</td>\n",
       "      <td>0.838916</td>\n",
       "      <td>0.347092</td>\n",
       "      <td>0.839537</td>\n",
       "    </tr>\n",
       "    <tr>\n",
       "      <th>13</th>\n",
       "      <td>0.359415</td>\n",
       "      <td>0.838916</td>\n",
       "      <td>0.355494</td>\n",
       "      <td>0.837607</td>\n",
       "    </tr>\n",
       "    <tr>\n",
       "      <th>14</th>\n",
       "      <td>0.354759</td>\n",
       "      <td>0.842742</td>\n",
       "      <td>0.356274</td>\n",
       "      <td>0.838158</td>\n",
       "    </tr>\n",
       "    <tr>\n",
       "      <th>15</th>\n",
       "      <td>0.354480</td>\n",
       "      <td>0.840640</td>\n",
       "      <td>0.343084</td>\n",
       "      <td>0.849738</td>\n",
       "    </tr>\n",
       "    <tr>\n",
       "      <th>16</th>\n",
       "      <td>0.350519</td>\n",
       "      <td>0.844879</td>\n",
       "      <td>0.344995</td>\n",
       "      <td>0.842845</td>\n",
       "    </tr>\n",
       "    <tr>\n",
       "      <th>17</th>\n",
       "      <td>0.347956</td>\n",
       "      <td>0.846016</td>\n",
       "      <td>0.349959</td>\n",
       "      <td>0.841743</td>\n",
       "    </tr>\n",
       "    <tr>\n",
       "      <th>18</th>\n",
       "      <td>0.348395</td>\n",
       "      <td>0.846395</td>\n",
       "      <td>0.340695</td>\n",
       "      <td>0.846154</td>\n",
       "    </tr>\n",
       "    <tr>\n",
       "      <th>19</th>\n",
       "      <td>0.345959</td>\n",
       "      <td>0.846223</td>\n",
       "      <td>0.344967</td>\n",
       "      <td>0.842845</td>\n",
       "    </tr>\n",
       "  </tbody>\n",
       "</table>\n",
       "</div>"
      ],
      "text/plain": [
       "        loss  binary_accuracy  val_loss  val_binary_accuracy\n",
       "0   0.505083         0.767887  0.414786             0.799559\n",
       "1   0.437108         0.799007  0.404321             0.814171\n",
       "2   0.420847         0.805245  0.416278             0.812517\n",
       "3   0.408263         0.811759  0.401711             0.807554\n",
       "4   0.402362         0.817377  0.384025             0.824648\n",
       "5   0.396338         0.820237  0.386513             0.816101\n",
       "6   0.385935         0.824580  0.374912             0.825200\n",
       "7   0.383562         0.826647  0.369939             0.834298\n",
       "8   0.381212         0.829163  0.364844             0.834023\n",
       "9   0.374239         0.831197  0.372133             0.829887\n",
       "10  0.370598         0.835953  0.370266             0.827130\n",
       "11  0.364523         0.836745  0.385233             0.825200\n",
       "12  0.365596         0.838916  0.347092             0.839537\n",
       "13  0.359415         0.838916  0.355494             0.837607\n",
       "14  0.354759         0.842742  0.356274             0.838158\n",
       "15  0.354480         0.840640  0.343084             0.849738\n",
       "16  0.350519         0.844879  0.344995             0.842845\n",
       "17  0.347956         0.846016  0.349959             0.841743\n",
       "18  0.348395         0.846395  0.340695             0.846154\n",
       "19  0.345959         0.846223  0.344967             0.842845"
      ]
     },
     "execution_count": 10,
     "metadata": {},
     "output_type": "execute_result"
    }
   ],
   "source": [
    "history = model.fit(X_train, t_train, batch_size=32, epochs=20, verbose=0, validation_data=(\n",
    "    X_val, t_val))\n",
    "logs = pd.DataFrame(history.history)\n",
    "logs"
   ]
  },
  {
   "cell_type": "code",
   "execution_count": 11,
   "metadata": {},
   "outputs": [
    {
     "data": {
      "image/png": "[encoded data removed]",
      "text/plain": [
       "<Figure size 800x500 with 1 Axes>"
      ]
     },
     "metadata": {},
     "output_type": "display_data"
    }
   ],
   "source": [
    "results = pd.DataFrame(history.history)\n",
    "results.plot(figsize=(8, 5))\n",
    "plt.grid(True)\n",
    "plt.xlabel(\"Epochs\")\n",
    "plt.ylabel(\"Accuracy - Mean Log Loss\")\n",
    "plt.gca().set_ylim(0, 1)  # set the vertical range to [0-1]\n",
    "plt.show()"
   ]
  },
  {
   "cell_type": "code",
   "execution_count": 12,
   "metadata": {},
   "outputs": [
    {
     "data": {
      "text/plain": [
       "0.00016541481018066405"
      ]
     },
     "execution_count": 12,
     "metadata": {},
     "output_type": "execute_result"
    }
   ],
   "source": [
    "compute_ovefitting(history)"
   ]
  },
  {
   "cell_type": "code",
   "execution_count": 13,
   "metadata": {},
   "outputs": [],
   "source": [
    "model.compile(loss=keras.losses.binary_crossentropy,\n",
    "              optimizer=keras.optimizers.legacy.Adam(learning_rate=0.0001),\n",
    "              metrics=keras.metrics.binary_accuracy)"
   ]
  },
  {
   "cell_type": "code",
   "execution_count": 14,
   "metadata": {},
   "outputs": [
    {
     "name": "stderr",
     "output_type": "stream",
     "text": [
      "2023-11-16 16:33:49.070509: I tensorflow/core/grappler/optimizers/custom_graph_optimizer_registry.cc:114] Plugin optimizer for device_type GPU is enabled.\n",
      "2023-11-16 16:34:13.490141: I tensorflow/core/grappler/optimizers/custom_graph_optimizer_registry.cc:114] Plugin optimizer for device_type GPU is enabled.\n"
     ]
    },
    {
     "data": {
      "text/html": [
       "<div>\n",
       "<style scoped>\n",
       "    .dataframe tbody tr th:only-of-type {\n",
       "        vertical-align: middle;\n",
       "    }\n",
       "\n",
       "    .dataframe tbody tr th {\n",
       "        vertical-align: top;\n",
       "    }\n",
       "\n",
       "    .dataframe thead th {\n",
       "        text-align: right;\n",
       "    }\n",
       "</style>\n",
       "<table border=\"1\" class=\"dataframe\">\n",
       "  <thead>\n",
       "    <tr style=\"text-align: right;\">\n",
       "      <th></th>\n",
       "      <th>loss</th>\n",
       "      <th>binary_accuracy</th>\n",
       "      <th>val_loss</th>\n",
       "      <th>val_binary_accuracy</th>\n",
       "    </tr>\n",
       "  </thead>\n",
       "  <tbody>\n",
       "    <tr>\n",
       "      <th>0</th>\n",
       "      <td>0.333104</td>\n",
       "      <td>0.854080</td>\n",
       "      <td>0.337951</td>\n",
       "      <td>0.842018</td>\n",
       "    </tr>\n",
       "    <tr>\n",
       "      <th>1</th>\n",
       "      <td>0.328182</td>\n",
       "      <td>0.856321</td>\n",
       "      <td>0.338186</td>\n",
       "      <td>0.844775</td>\n",
       "    </tr>\n",
       "    <tr>\n",
       "      <th>2</th>\n",
       "      <td>0.323847</td>\n",
       "      <td>0.857044</td>\n",
       "      <td>0.332862</td>\n",
       "      <td>0.846430</td>\n",
       "    </tr>\n",
       "    <tr>\n",
       "      <th>3</th>\n",
       "      <td>0.319116</td>\n",
       "      <td>0.859285</td>\n",
       "      <td>0.331945</td>\n",
       "      <td>0.848635</td>\n",
       "    </tr>\n",
       "    <tr>\n",
       "      <th>4</th>\n",
       "      <td>0.318889</td>\n",
       "      <td>0.861594</td>\n",
       "      <td>0.332922</td>\n",
       "      <td>0.850290</td>\n",
       "    </tr>\n",
       "    <tr>\n",
       "      <th>5</th>\n",
       "      <td>0.319554</td>\n",
       "      <td>0.861146</td>\n",
       "      <td>0.332641</td>\n",
       "      <td>0.848911</td>\n",
       "    </tr>\n",
       "    <tr>\n",
       "      <th>6</th>\n",
       "      <td>0.316878</td>\n",
       "      <td>0.861938</td>\n",
       "      <td>0.336302</td>\n",
       "      <td>0.846430</td>\n",
       "    </tr>\n",
       "    <tr>\n",
       "      <th>7</th>\n",
       "      <td>0.316276</td>\n",
       "      <td>0.861973</td>\n",
       "      <td>0.335133</td>\n",
       "      <td>0.849187</td>\n",
       "    </tr>\n",
       "    <tr>\n",
       "      <th>8</th>\n",
       "      <td>0.316625</td>\n",
       "      <td>0.862559</td>\n",
       "      <td>0.335040</td>\n",
       "      <td>0.849462</td>\n",
       "    </tr>\n",
       "    <tr>\n",
       "      <th>9</th>\n",
       "      <td>0.311699</td>\n",
       "      <td>0.863661</td>\n",
       "      <td>0.339586</td>\n",
       "      <td>0.849738</td>\n",
       "    </tr>\n",
       "    <tr>\n",
       "      <th>10</th>\n",
       "      <td>0.309973</td>\n",
       "      <td>0.863041</td>\n",
       "      <td>0.337818</td>\n",
       "      <td>0.849738</td>\n",
       "    </tr>\n",
       "    <tr>\n",
       "      <th>11</th>\n",
       "      <td>0.315696</td>\n",
       "      <td>0.862972</td>\n",
       "      <td>0.330291</td>\n",
       "      <td>0.847257</td>\n",
       "    </tr>\n",
       "    <tr>\n",
       "      <th>12</th>\n",
       "      <td>0.310710</td>\n",
       "      <td>0.863455</td>\n",
       "      <td>0.331929</td>\n",
       "      <td>0.850565</td>\n",
       "    </tr>\n",
       "    <tr>\n",
       "      <th>13</th>\n",
       "      <td>0.312055</td>\n",
       "      <td>0.862869</td>\n",
       "      <td>0.332121</td>\n",
       "      <td>0.850290</td>\n",
       "    </tr>\n",
       "    <tr>\n",
       "      <th>14</th>\n",
       "      <td>0.310718</td>\n",
       "      <td>0.862248</td>\n",
       "      <td>0.335911</td>\n",
       "      <td>0.850841</td>\n",
       "    </tr>\n",
       "    <tr>\n",
       "      <th>15</th>\n",
       "      <td>0.308573</td>\n",
       "      <td>0.864971</td>\n",
       "      <td>0.339914</td>\n",
       "      <td>0.850290</td>\n",
       "    </tr>\n",
       "    <tr>\n",
       "      <th>16</th>\n",
       "      <td>0.308889</td>\n",
       "      <td>0.864626</td>\n",
       "      <td>0.330150</td>\n",
       "      <td>0.848911</td>\n",
       "    </tr>\n",
       "    <tr>\n",
       "      <th>17</th>\n",
       "      <td>0.308542</td>\n",
       "      <td>0.864799</td>\n",
       "      <td>0.329508</td>\n",
       "      <td>0.850290</td>\n",
       "    </tr>\n",
       "    <tr>\n",
       "      <th>18</th>\n",
       "      <td>0.306092</td>\n",
       "      <td>0.866039</td>\n",
       "      <td>0.347917</td>\n",
       "      <td>0.849187</td>\n",
       "    </tr>\n",
       "    <tr>\n",
       "      <th>19</th>\n",
       "      <td>0.305184</td>\n",
       "      <td>0.867452</td>\n",
       "      <td>0.334847</td>\n",
       "      <td>0.853322</td>\n",
       "    </tr>\n",
       "  </tbody>\n",
       "</table>\n",
       "</div>"
      ],
      "text/plain": [
       "        loss  binary_accuracy  val_loss  val_binary_accuracy\n",
       "0   0.333104         0.854080  0.337951             0.842018\n",
       "1   0.328182         0.856321  0.338186             0.844775\n",
       "2   0.323847         0.857044  0.332862             0.846430\n",
       "3   0.319116         0.859285  0.331945             0.848635\n",
       "4   0.318889         0.861594  0.332922             0.850290\n",
       "5   0.319554         0.861146  0.332641             0.848911\n",
       "6   0.316878         0.861938  0.336302             0.846430\n",
       "7   0.316276         0.861973  0.335133             0.849187\n",
       "8   0.316625         0.862559  0.335040             0.849462\n",
       "9   0.311699         0.863661  0.339586             0.849738\n",
       "10  0.309973         0.863041  0.337818             0.849738\n",
       "11  0.315696         0.862972  0.330291             0.847257\n",
       "12  0.310710         0.863455  0.331929             0.850565\n",
       "13  0.312055         0.862869  0.332121             0.850290\n",
       "14  0.310718         0.862248  0.335911             0.850841\n",
       "15  0.308573         0.864971  0.339914             0.850290\n",
       "16  0.308889         0.864626  0.330150             0.848911\n",
       "17  0.308542         0.864799  0.329508             0.850290\n",
       "18  0.306092         0.866039  0.347917             0.849187\n",
       "19  0.305184         0.867452  0.334847             0.853322"
      ]
     },
     "execution_count": 14,
     "metadata": {},
     "output_type": "execute_result"
    }
   ],
   "source": [
    "history = model.fit(X_train, t_train, batch_size=32, epochs=20, verbose=0, validation_data=(\n",
    "    X_val, t_val))\n",
    "logs = pd.DataFrame(history.history)\n",
    "logs"
   ]
  },
  {
   "cell_type": "code",
   "execution_count": 15,
   "metadata": {},
   "outputs": [
    {
     "data": {
      "image/png": "[encoded data removed]",
      "text/plain": [
       "<Figure size 800x500 with 1 Axes>"
      ]
     },
     "metadata": {},
     "output_type": "display_data"
    }
   ],
   "source": [
    "results = pd.DataFrame(history.history)\n",
    "results.plot(figsize=(8, 5))\n",
    "plt.grid(True)\n",
    "plt.xlabel(\"Epochs\")\n",
    "plt.ylabel(\"Accuracy - Mean Log Loss\")\n",
    "plt.gca().set_ylim(0, 1)  # set the vertical range to [0-1]\n",
    "plt.show()"
   ]
  },
  {
   "cell_type": "code",
   "execution_count": 16,
   "metadata": {},
   "outputs": [
    {
     "data": {
      "text/plain": [
       "0.01517782211303711"
      ]
     },
     "execution_count": 16,
     "metadata": {},
     "output_type": "execute_result"
    }
   ],
   "source": [
    "compute_ovefitting(history)"
   ]
  },
  {
   "cell_type": "code",
   "execution_count": 17,
   "metadata": {},
   "outputs": [],
   "source": [
    "model.compile(loss=keras.losses.binary_crossentropy,\n",
    "              optimizer=keras.optimizers.legacy.Adam(learning_rate=0.000005),\n",
    "              metrics=keras.metrics.binary_accuracy)"
   ]
  },
  {
   "cell_type": "code",
   "execution_count": 18,
   "metadata": {},
   "outputs": [
    {
     "name": "stderr",
     "output_type": "stream",
     "text": [
      "2023-11-16 16:45:04.173590: I tensorflow/core/grappler/optimizers/custom_graph_optimizer_registry.cc:114] Plugin optimizer for device_type GPU is enabled.\n",
      "2023-11-16 16:45:18.578125: I tensorflow/core/grappler/optimizers/custom_graph_optimizer_registry.cc:114] Plugin optimizer for device_type GPU is enabled.\n"
     ]
    },
    {
     "data": {
      "text/html": [
       "<div>\n",
       "<style scoped>\n",
       "    .dataframe tbody tr th:only-of-type {\n",
       "        vertical-align: middle;\n",
       "    }\n",
       "\n",
       "    .dataframe tbody tr th {\n",
       "        vertical-align: top;\n",
       "    }\n",
       "\n",
       "    .dataframe thead th {\n",
       "        text-align: right;\n",
       "    }\n",
       "</style>\n",
       "<table border=\"1\" class=\"dataframe\">\n",
       "  <thead>\n",
       "    <tr style=\"text-align: right;\">\n",
       "      <th></th>\n",
       "      <th>loss</th>\n",
       "      <th>binary_accuracy</th>\n",
       "      <th>val_loss</th>\n",
       "      <th>val_binary_accuracy</th>\n",
       "    </tr>\n",
       "  </thead>\n",
       "  <tbody>\n",
       "    <tr>\n",
       "      <th>0</th>\n",
       "      <td>0.292791</td>\n",
       "      <td>0.872829</td>\n",
       "      <td>0.323803</td>\n",
       "      <td>0.856907</td>\n",
       "    </tr>\n",
       "    <tr>\n",
       "      <th>1</th>\n",
       "      <td>0.288908</td>\n",
       "      <td>0.874138</td>\n",
       "      <td>0.321065</td>\n",
       "      <td>0.856631</td>\n",
       "    </tr>\n",
       "    <tr>\n",
       "      <th>2</th>\n",
       "      <td>0.289342</td>\n",
       "      <td>0.875276</td>\n",
       "      <td>0.320025</td>\n",
       "      <td>0.857734</td>\n",
       "    </tr>\n",
       "    <tr>\n",
       "      <th>3</th>\n",
       "      <td>0.289971</td>\n",
       "      <td>0.874207</td>\n",
       "      <td>0.324044</td>\n",
       "      <td>0.857182</td>\n",
       "    </tr>\n",
       "    <tr>\n",
       "      <th>4</th>\n",
       "      <td>0.289293</td>\n",
       "      <td>0.874345</td>\n",
       "      <td>0.322103</td>\n",
       "      <td>0.856631</td>\n",
       "    </tr>\n",
       "    <tr>\n",
       "      <th>5</th>\n",
       "      <td>0.290614</td>\n",
       "      <td>0.874586</td>\n",
       "      <td>0.321914</td>\n",
       "      <td>0.854701</td>\n",
       "    </tr>\n",
       "    <tr>\n",
       "      <th>6</th>\n",
       "      <td>0.286926</td>\n",
       "      <td>0.874483</td>\n",
       "      <td>0.321242</td>\n",
       "      <td>0.856079</td>\n",
       "    </tr>\n",
       "    <tr>\n",
       "      <th>7</th>\n",
       "      <td>0.289279</td>\n",
       "      <td>0.872794</td>\n",
       "      <td>0.321322</td>\n",
       "      <td>0.855804</td>\n",
       "    </tr>\n",
       "    <tr>\n",
       "      <th>8</th>\n",
       "      <td>0.290698</td>\n",
       "      <td>0.872553</td>\n",
       "      <td>0.320989</td>\n",
       "      <td>0.856079</td>\n",
       "    </tr>\n",
       "    <tr>\n",
       "      <th>9</th>\n",
       "      <td>0.287726</td>\n",
       "      <td>0.873828</td>\n",
       "      <td>0.319642</td>\n",
       "      <td>0.856079</td>\n",
       "    </tr>\n",
       "    <tr>\n",
       "      <th>10</th>\n",
       "      <td>0.290022</td>\n",
       "      <td>0.873036</td>\n",
       "      <td>0.321224</td>\n",
       "      <td>0.856355</td>\n",
       "    </tr>\n",
       "    <tr>\n",
       "      <th>11</th>\n",
       "      <td>0.288805</td>\n",
       "      <td>0.873415</td>\n",
       "      <td>0.320684</td>\n",
       "      <td>0.855252</td>\n",
       "    </tr>\n",
       "    <tr>\n",
       "      <th>12</th>\n",
       "      <td>0.287229</td>\n",
       "      <td>0.872967</td>\n",
       "      <td>0.318660</td>\n",
       "      <td>0.856907</td>\n",
       "    </tr>\n",
       "    <tr>\n",
       "      <th>13</th>\n",
       "      <td>0.288078</td>\n",
       "      <td>0.874483</td>\n",
       "      <td>0.319602</td>\n",
       "      <td>0.854977</td>\n",
       "    </tr>\n",
       "    <tr>\n",
       "      <th>14</th>\n",
       "      <td>0.287427</td>\n",
       "      <td>0.875310</td>\n",
       "      <td>0.318445</td>\n",
       "      <td>0.856355</td>\n",
       "    </tr>\n",
       "    <tr>\n",
       "      <th>15</th>\n",
       "      <td>0.287560</td>\n",
       "      <td>0.874586</td>\n",
       "      <td>0.320024</td>\n",
       "      <td>0.856079</td>\n",
       "    </tr>\n",
       "    <tr>\n",
       "      <th>16</th>\n",
       "      <td>0.286752</td>\n",
       "      <td>0.873863</td>\n",
       "      <td>0.319080</td>\n",
       "      <td>0.856907</td>\n",
       "    </tr>\n",
       "    <tr>\n",
       "      <th>17</th>\n",
       "      <td>0.285225</td>\n",
       "      <td>0.875345</td>\n",
       "      <td>0.317603</td>\n",
       "      <td>0.856907</td>\n",
       "    </tr>\n",
       "    <tr>\n",
       "      <th>18</th>\n",
       "      <td>0.288903</td>\n",
       "      <td>0.874207</td>\n",
       "      <td>0.316463</td>\n",
       "      <td>0.857182</td>\n",
       "    </tr>\n",
       "    <tr>\n",
       "      <th>19</th>\n",
       "      <td>0.288689</td>\n",
       "      <td>0.873863</td>\n",
       "      <td>0.318299</td>\n",
       "      <td>0.855804</td>\n",
       "    </tr>\n",
       "  </tbody>\n",
       "</table>\n",
       "</div>"
      ],
      "text/plain": [
       "        loss  binary_accuracy  val_loss  val_binary_accuracy\n",
       "0   0.292791         0.872829  0.323803             0.856907\n",
       "1   0.288908         0.874138  0.321065             0.856631\n",
       "2   0.289342         0.875276  0.320025             0.857734\n",
       "3   0.289971         0.874207  0.324044             0.857182\n",
       "4   0.289293         0.874345  0.322103             0.856631\n",
       "5   0.290614         0.874586  0.321914             0.854701\n",
       "6   0.286926         0.874483  0.321242             0.856079\n",
       "7   0.289279         0.872794  0.321322             0.855804\n",
       "8   0.290698         0.872553  0.320989             0.856079\n",
       "9   0.287726         0.873828  0.319642             0.856079\n",
       "10  0.290022         0.873036  0.321224             0.856355\n",
       "11  0.288805         0.873415  0.320684             0.855252\n",
       "12  0.287229         0.872967  0.318660             0.856907\n",
       "13  0.288078         0.874483  0.319602             0.854977\n",
       "14  0.287427         0.875310  0.318445             0.856355\n",
       "15  0.287560         0.874586  0.320024             0.856079\n",
       "16  0.286752         0.873863  0.319080             0.856907\n",
       "17  0.285225         0.875345  0.317603             0.856907\n",
       "18  0.288903         0.874207  0.316463             0.857182\n",
       "19  0.288689         0.873863  0.318299             0.855804"
      ]
     },
     "execution_count": 18,
     "metadata": {},
     "output_type": "execute_result"
    }
   ],
   "source": [
    "history = model.fit(X_train, t_train, batch_size=64, epochs=20, verbose=0, validation_data=(\n",
    "    X_val, t_val))\n",
    "logs = pd.DataFrame(history.history)\n",
    "logs"
   ]
  },
  {
   "cell_type": "code",
   "execution_count": 19,
   "metadata": {},
   "outputs": [
    {
     "data": {
      "image/png": "[encoded data removed]",
      "text/plain": [
       "<Figure size 800x500 with 1 Axes>"
      ]
     },
     "metadata": {},
     "output_type": "display_data"
    }
   ],
   "source": [
    "results = pd.DataFrame(history.history)\n",
    "results.plot(figsize=(8, 5))\n",
    "plt.grid(True)\n",
    "plt.xlabel(\"Epochs\")\n",
    "plt.ylabel(\"Accuracy - Mean Log Loss\")\n",
    "plt.gca().set_ylim(0, 1)  # set the vertical range to [0-1]\n",
    "plt.show()"
   ]
  },
  {
   "cell_type": "code",
   "execution_count": 20,
   "metadata": {},
   "outputs": [
    {
     "data": {
      "text/plain": [
       "0.01779707670211792"
      ]
     },
     "execution_count": 20,
     "metadata": {},
     "output_type": "execute_result"
    }
   ],
   "source": [
    "compute_ovefitting(history)"
   ]
  },
  {
   "cell_type": "markdown",
   "metadata": {},
   "source": [
    "## Attempt 15"
   ]
  },
  {
   "cell_type": "markdown",
   "metadata": {},
   "source": [
    "Using `ReLU` at the entry layer can be a problem because it may return 0 for negative values. \n",
    "\n",
    "Perhaps, use a `sigmoid` function as an entry layer to remove negative values?"
   ]
  },
  {
   "cell_type": "code",
   "execution_count": 9,
   "metadata": {},
   "outputs": [
    {
     "name": "stderr",
     "output_type": "stream",
     "text": [
      "2023-11-16 19:42:18.572121: I metal_plugin/src/device/metal_device.cc:1154] Metal device set to: Apple M1\n",
      "2023-11-16 19:42:18.572157: I metal_plugin/src/device/metal_device.cc:296] systemMemory: 16.00 GB\n",
      "2023-11-16 19:42:18.572164: I metal_plugin/src/device/metal_device.cc:313] maxCacheSize: 5.33 GB\n",
      "2023-11-16 19:42:18.572508: I tensorflow/core/common_runtime/pluggable_device/pluggable_device_factory.cc:303] Could not identify NUMA node of platform GPU ID 0, defaulting to 0. Your kernel may not have been built with NUMA support.\n",
      "2023-11-16 19:42:18.572916: I tensorflow/core/common_runtime/pluggable_device/pluggable_device_factory.cc:269] Created TensorFlow device (/job:localhost/replica:0/task:0/device:GPU:0 with 0 MB memory) -> physical PluggableDevice (device: 0, name: METAL, pci bus id: <undefined>)\n"
     ]
    },
    {
     "name": "stdout",
     "output_type": "stream",
     "text": [
      "Model: \"Model15\"\n",
      "_________________________________________________________________\n",
      " Layer (type)                Output Shape              Param #   \n",
      "=================================================================\n",
      " dense (Dense)               (None, 2048)              34816     \n",
      "                                                                 \n",
      " dropout (Dropout)           (None, 2048)              0         \n",
      "                                                                 \n",
      " batch_normalization (Batch  (None, 2048)              8192      \n",
      " Normalization)                                                  \n",
      "                                                                 \n",
      " dense_1 (Dense)             (None, 2048)              4196352   \n",
      "                                                                 \n",
      " dropout_1 (Dropout)         (None, 2048)              0         \n",
      "                                                                 \n",
      " batch_normalization_1 (Bat  (None, 2048)              8192      \n",
      " chNormalization)                                                \n",
      "                                                                 \n",
      " dense_2 (Dense)             (None, 1)                 2049      \n",
      "                                                                 \n",
      "=================================================================\n",
      "Total params: 4249601 (16.21 MB)\n",
      "Trainable params: 4241409 (16.18 MB)\n",
      "Non-trainable params: 8192 (32.00 KB)\n",
      "_________________________________________________________________\n"
     ]
    }
   ],
   "source": [
    "from keras.models import Sequential\n",
    "\n",
    "model = Sequential(name='Model15')\n",
    "model.add(keras.layers.Input(shape=input_shape))\n",
    "model.add(keras.layers.Dense(units=2048,\n",
    "                             activation=keras.activations.swish,\n",
    "                             kernel_initializer=keras.initializers.HeUniform(seed=seed)))\n",
    "model.add(keras.layers.Dropout(0.1))\n",
    "model.add(keras.layers.BatchNormalization())\n",
    "model.add(keras.layers.Dense(units=2048,\n",
    "                             activation=keras.activations.swish,\n",
    "                             kernel_initializer=keras.initializers.HeUniform(seed=seed)))\n",
    "model.add(keras.layers.Dropout(0.1))\n",
    "model.add(keras.layers.BatchNormalization())\n",
    "model.add(keras.layers.Dense(units=output_shape, activation=keras.activations.sigmoid,\n",
    "                             kernel_initializer=keras.initializers.GlorotNormal(seed=seed)))\n",
    "model.summary()"
   ]
  },
  {
   "cell_type": "code",
   "execution_count": 10,
   "metadata": {},
   "outputs": [],
   "source": [
    "model.compile(loss=keras.losses.binary_crossentropy,\n",
    "              optimizer=keras.optimizers.legacy.Adam(learning_rate=0.001),\n",
    "              metrics=keras.metrics.binary_accuracy)"
   ]
  },
  {
   "cell_type": "code",
   "execution_count": 11,
   "metadata": {},
   "outputs": [
    {
     "name": "stderr",
     "output_type": "stream",
     "text": [
      "2023-11-16 19:42:42.400570: I tensorflow/core/grappler/optimizers/custom_graph_optimizer_registry.cc:114] Plugin optimizer for device_type GPU is enabled.\n",
      "2023-11-16 19:42:57.790291: I tensorflow/core/grappler/optimizers/custom_graph_optimizer_registry.cc:114] Plugin optimizer for device_type GPU is enabled.\n"
     ]
    },
    {
     "data": {
      "text/html": [
       "<div>\n",
       "<style scoped>\n",
       "    .dataframe tbody tr th:only-of-type {\n",
       "        vertical-align: middle;\n",
       "    }\n",
       "\n",
       "    .dataframe tbody tr th {\n",
       "        vertical-align: top;\n",
       "    }\n",
       "\n",
       "    .dataframe thead th {\n",
       "        text-align: right;\n",
       "    }\n",
       "</style>\n",
       "<table border=\"1\" class=\"dataframe\">\n",
       "  <thead>\n",
       "    <tr style=\"text-align: right;\">\n",
       "      <th></th>\n",
       "      <th>loss</th>\n",
       "      <th>binary_accuracy</th>\n",
       "      <th>val_loss</th>\n",
       "      <th>val_binary_accuracy</th>\n",
       "    </tr>\n",
       "  </thead>\n",
       "  <tbody>\n",
       "    <tr>\n",
       "      <th>0</th>\n",
       "      <td>0.519034</td>\n",
       "      <td>0.773746</td>\n",
       "      <td>0.442280</td>\n",
       "      <td>0.795147</td>\n",
       "    </tr>\n",
       "    <tr>\n",
       "      <th>1</th>\n",
       "      <td>0.435830</td>\n",
       "      <td>0.795733</td>\n",
       "      <td>0.413543</td>\n",
       "      <td>0.806727</td>\n",
       "    </tr>\n",
       "    <tr>\n",
       "      <th>2</th>\n",
       "      <td>0.422367</td>\n",
       "      <td>0.806210</td>\n",
       "      <td>0.416822</td>\n",
       "      <td>0.807279</td>\n",
       "    </tr>\n",
       "    <tr>\n",
       "      <th>3</th>\n",
       "      <td>0.408794</td>\n",
       "      <td>0.812345</td>\n",
       "      <td>0.393657</td>\n",
       "      <td>0.818031</td>\n",
       "    </tr>\n",
       "    <tr>\n",
       "      <th>4</th>\n",
       "      <td>0.401511</td>\n",
       "      <td>0.816412</td>\n",
       "      <td>0.391280</td>\n",
       "      <td>0.819961</td>\n",
       "    </tr>\n",
       "    <tr>\n",
       "      <th>5</th>\n",
       "      <td>0.397487</td>\n",
       "      <td>0.819858</td>\n",
       "      <td>0.376589</td>\n",
       "      <td>0.826578</td>\n",
       "    </tr>\n",
       "    <tr>\n",
       "      <th>6</th>\n",
       "      <td>0.393221</td>\n",
       "      <td>0.820926</td>\n",
       "      <td>0.380017</td>\n",
       "      <td>0.825476</td>\n",
       "    </tr>\n",
       "    <tr>\n",
       "      <th>7</th>\n",
       "      <td>0.383185</td>\n",
       "      <td>0.828198</td>\n",
       "      <td>0.375488</td>\n",
       "      <td>0.826303</td>\n",
       "    </tr>\n",
       "    <tr>\n",
       "      <th>8</th>\n",
       "      <td>0.380492</td>\n",
       "      <td>0.829956</td>\n",
       "      <td>0.374784</td>\n",
       "      <td>0.826578</td>\n",
       "    </tr>\n",
       "    <tr>\n",
       "      <th>9</th>\n",
       "      <td>0.372079</td>\n",
       "      <td>0.835711</td>\n",
       "      <td>0.371614</td>\n",
       "      <td>0.826578</td>\n",
       "    </tr>\n",
       "    <tr>\n",
       "      <th>10</th>\n",
       "      <td>0.368167</td>\n",
       "      <td>0.831886</td>\n",
       "      <td>0.360693</td>\n",
       "      <td>0.832368</td>\n",
       "    </tr>\n",
       "    <tr>\n",
       "      <th>11</th>\n",
       "      <td>0.364745</td>\n",
       "      <td>0.837262</td>\n",
       "      <td>0.358509</td>\n",
       "      <td>0.842845</td>\n",
       "    </tr>\n",
       "    <tr>\n",
       "      <th>12</th>\n",
       "      <td>0.362991</td>\n",
       "      <td>0.840536</td>\n",
       "      <td>0.360120</td>\n",
       "      <td>0.836780</td>\n",
       "    </tr>\n",
       "    <tr>\n",
       "      <th>13</th>\n",
       "      <td>0.358109</td>\n",
       "      <td>0.840398</td>\n",
       "      <td>0.354057</td>\n",
       "      <td>0.840640</td>\n",
       "    </tr>\n",
       "    <tr>\n",
       "      <th>14</th>\n",
       "      <td>0.358486</td>\n",
       "      <td>0.841122</td>\n",
       "      <td>0.352522</td>\n",
       "      <td>0.842018</td>\n",
       "    </tr>\n",
       "    <tr>\n",
       "      <th>15</th>\n",
       "      <td>0.351676</td>\n",
       "      <td>0.844086</td>\n",
       "      <td>0.353815</td>\n",
       "      <td>0.835401</td>\n",
       "    </tr>\n",
       "    <tr>\n",
       "      <th>16</th>\n",
       "      <td>0.349790</td>\n",
       "      <td>0.842328</td>\n",
       "      <td>0.349903</td>\n",
       "      <td>0.836780</td>\n",
       "    </tr>\n",
       "    <tr>\n",
       "      <th>17</th>\n",
       "      <td>0.347227</td>\n",
       "      <td>0.846430</td>\n",
       "      <td>0.358036</td>\n",
       "      <td>0.838434</td>\n",
       "    </tr>\n",
       "    <tr>\n",
       "      <th>18</th>\n",
       "      <td>0.347016</td>\n",
       "      <td>0.845844</td>\n",
       "      <td>0.347251</td>\n",
       "      <td>0.845602</td>\n",
       "    </tr>\n",
       "    <tr>\n",
       "      <th>19</th>\n",
       "      <td>0.343058</td>\n",
       "      <td>0.848463</td>\n",
       "      <td>0.343834</td>\n",
       "      <td>0.845327</td>\n",
       "    </tr>\n",
       "  </tbody>\n",
       "</table>\n",
       "</div>"
      ],
      "text/plain": [
       "        loss  binary_accuracy  val_loss  val_binary_accuracy\n",
       "0   0.519034         0.773746  0.442280             0.795147\n",
       "1   0.435830         0.795733  0.413543             0.806727\n",
       "2   0.422367         0.806210  0.416822             0.807279\n",
       "3   0.408794         0.812345  0.393657             0.818031\n",
       "4   0.401511         0.816412  0.391280             0.819961\n",
       "5   0.397487         0.819858  0.376589             0.826578\n",
       "6   0.393221         0.820926  0.380017             0.825476\n",
       "7   0.383185         0.828198  0.375488             0.826303\n",
       "8   0.380492         0.829956  0.374784             0.826578\n",
       "9   0.372079         0.835711  0.371614             0.826578\n",
       "10  0.368167         0.831886  0.360693             0.832368\n",
       "11  0.364745         0.837262  0.358509             0.842845\n",
       "12  0.362991         0.840536  0.360120             0.836780\n",
       "13  0.358109         0.840398  0.354057             0.840640\n",
       "14  0.358486         0.841122  0.352522             0.842018\n",
       "15  0.351676         0.844086  0.353815             0.835401\n",
       "16  0.349790         0.842328  0.349903             0.836780\n",
       "17  0.347227         0.846430  0.358036             0.838434\n",
       "18  0.347016         0.845844  0.347251             0.845602\n",
       "19  0.343058         0.848463  0.343834             0.845327"
      ]
     },
     "execution_count": 11,
     "metadata": {},
     "output_type": "execute_result"
    }
   ],
   "source": [
    "history = model.fit(X_train, t_train, batch_size=32, epochs=20, verbose=0, validation_data=(\n",
    "    X_val, t_val))\n",
    "logs = pd.DataFrame(history.history)\n",
    "logs"
   ]
  },
  {
   "cell_type": "code",
   "execution_count": 14,
   "metadata": {},
   "outputs": [
    {
     "data": {
      "text/plain": [
       "0.005121302604675293"
      ]
     },
     "execution_count": 14,
     "metadata": {},
     "output_type": "execute_result"
    }
   ],
   "source": [
    "compute_ovefitting(history)"
   ]
  },
  {
   "cell_type": "code",
   "execution_count": 12,
   "metadata": {},
   "outputs": [],
   "source": [
    "from playsound import playsound\n",
    "playsound('/Users/paul/Downloads/joyous-chime-notification.mp3')"
   ]
  },
  {
   "cell_type": "code",
   "execution_count": 13,
   "metadata": {},
   "outputs": [
    {
     "data": {
      "image/png": "[encoded data removed]",
      "text/plain": [
       "<Figure size 800x500 with 1 Axes>"
      ]
     },
     "metadata": {},
     "output_type": "display_data"
    }
   ],
   "source": [
    "results = pd.DataFrame(history.history)\n",
    "results.plot(figsize=(8, 5))\n",
    "plt.grid(True)\n",
    "plt.xlabel(\"Epochs\")\n",
    "plt.ylabel(\"Accuracy - Mean Log Loss\")\n",
    "plt.gca().set_ylim(0, 1)  # set the vertical range to [0-1]\n",
    "plt.show()"
   ]
  },
  {
   "cell_type": "code",
   "execution_count": 16,
   "metadata": {},
   "outputs": [],
   "source": [
    "model.compile(loss=keras.losses.binary_crossentropy,\n",
    "              optimizer=keras.optimizers.legacy.Adam(learning_rate=0.0001),\n",
    "              metrics=keras.metrics.binary_accuracy)"
   ]
  },
  {
   "cell_type": "code",
   "execution_count": 17,
   "metadata": {},
   "outputs": [
    {
     "name": "stderr",
     "output_type": "stream",
     "text": [
      "2023-11-16 19:59:39.335855: I tensorflow/core/grappler/optimizers/custom_graph_optimizer_registry.cc:114] Plugin optimizer for device_type GPU is enabled.\n",
      "2023-11-16 19:59:53.373600: I tensorflow/core/grappler/optimizers/custom_graph_optimizer_registry.cc:114] Plugin optimizer for device_type GPU is enabled.\n"
     ]
    },
    {
     "data": {
      "text/html": [
       "<div>\n",
       "<style scoped>\n",
       "    .dataframe tbody tr th:only-of-type {\n",
       "        vertical-align: middle;\n",
       "    }\n",
       "\n",
       "    .dataframe tbody tr th {\n",
       "        vertical-align: top;\n",
       "    }\n",
       "\n",
       "    .dataframe thead th {\n",
       "        text-align: right;\n",
       "    }\n",
       "</style>\n",
       "<table border=\"1\" class=\"dataframe\">\n",
       "  <thead>\n",
       "    <tr style=\"text-align: right;\">\n",
       "      <th></th>\n",
       "      <th>loss</th>\n",
       "      <th>binary_accuracy</th>\n",
       "      <th>val_loss</th>\n",
       "      <th>val_binary_accuracy</th>\n",
       "    </tr>\n",
       "  </thead>\n",
       "  <tbody>\n",
       "    <tr>\n",
       "      <th>0</th>\n",
       "      <td>0.330486</td>\n",
       "      <td>0.853184</td>\n",
       "      <td>0.339062</td>\n",
       "      <td>0.844775</td>\n",
       "    </tr>\n",
       "    <tr>\n",
       "      <th>1</th>\n",
       "      <td>0.323772</td>\n",
       "      <td>0.855666</td>\n",
       "      <td>0.336535</td>\n",
       "      <td>0.845878</td>\n",
       "    </tr>\n",
       "    <tr>\n",
       "      <th>2</th>\n",
       "      <td>0.323335</td>\n",
       "      <td>0.857113</td>\n",
       "      <td>0.334164</td>\n",
       "      <td>0.849462</td>\n",
       "    </tr>\n",
       "    <tr>\n",
       "      <th>3</th>\n",
       "      <td>0.322922</td>\n",
       "      <td>0.858664</td>\n",
       "      <td>0.335721</td>\n",
       "      <td>0.846981</td>\n",
       "    </tr>\n",
       "    <tr>\n",
       "      <th>4</th>\n",
       "      <td>0.317913</td>\n",
       "      <td>0.860146</td>\n",
       "      <td>0.333766</td>\n",
       "      <td>0.848084</td>\n",
       "    </tr>\n",
       "    <tr>\n",
       "      <th>5</th>\n",
       "      <td>0.321973</td>\n",
       "      <td>0.860146</td>\n",
       "      <td>0.334887</td>\n",
       "      <td>0.847257</td>\n",
       "    </tr>\n",
       "    <tr>\n",
       "      <th>6</th>\n",
       "      <td>0.318060</td>\n",
       "      <td>0.860973</td>\n",
       "      <td>0.333415</td>\n",
       "      <td>0.849187</td>\n",
       "    </tr>\n",
       "    <tr>\n",
       "      <th>7</th>\n",
       "      <td>0.317284</td>\n",
       "      <td>0.859250</td>\n",
       "      <td>0.332285</td>\n",
       "      <td>0.848635</td>\n",
       "    </tr>\n",
       "    <tr>\n",
       "      <th>8</th>\n",
       "      <td>0.316455</td>\n",
       "      <td>0.860456</td>\n",
       "      <td>0.331960</td>\n",
       "      <td>0.848360</td>\n",
       "    </tr>\n",
       "    <tr>\n",
       "      <th>9</th>\n",
       "      <td>0.315039</td>\n",
       "      <td>0.861077</td>\n",
       "      <td>0.329931</td>\n",
       "      <td>0.849462</td>\n",
       "    </tr>\n",
       "    <tr>\n",
       "      <th>10</th>\n",
       "      <td>0.313852</td>\n",
       "      <td>0.862386</td>\n",
       "      <td>0.332214</td>\n",
       "      <td>0.851117</td>\n",
       "    </tr>\n",
       "    <tr>\n",
       "      <th>11</th>\n",
       "      <td>0.312954</td>\n",
       "      <td>0.861352</td>\n",
       "      <td>0.331587</td>\n",
       "      <td>0.847257</td>\n",
       "    </tr>\n",
       "    <tr>\n",
       "      <th>12</th>\n",
       "      <td>0.313491</td>\n",
       "      <td>0.861869</td>\n",
       "      <td>0.331837</td>\n",
       "      <td>0.849187</td>\n",
       "    </tr>\n",
       "    <tr>\n",
       "      <th>13</th>\n",
       "      <td>0.310275</td>\n",
       "      <td>0.863076</td>\n",
       "      <td>0.329495</td>\n",
       "      <td>0.848360</td>\n",
       "    </tr>\n",
       "    <tr>\n",
       "      <th>14</th>\n",
       "      <td>0.310903</td>\n",
       "      <td>0.864247</td>\n",
       "      <td>0.328554</td>\n",
       "      <td>0.850841</td>\n",
       "    </tr>\n",
       "    <tr>\n",
       "      <th>15</th>\n",
       "      <td>0.308633</td>\n",
       "      <td>0.862834</td>\n",
       "      <td>0.328131</td>\n",
       "      <td>0.850290</td>\n",
       "    </tr>\n",
       "    <tr>\n",
       "      <th>16</th>\n",
       "      <td>0.311971</td>\n",
       "      <td>0.863386</td>\n",
       "      <td>0.328319</td>\n",
       "      <td>0.852219</td>\n",
       "    </tr>\n",
       "    <tr>\n",
       "      <th>17</th>\n",
       "      <td>0.306645</td>\n",
       "      <td>0.863696</td>\n",
       "      <td>0.329820</td>\n",
       "      <td>0.851944</td>\n",
       "    </tr>\n",
       "    <tr>\n",
       "      <th>18</th>\n",
       "      <td>0.308688</td>\n",
       "      <td>0.863661</td>\n",
       "      <td>0.330908</td>\n",
       "      <td>0.847808</td>\n",
       "    </tr>\n",
       "    <tr>\n",
       "      <th>19</th>\n",
       "      <td>0.308099</td>\n",
       "      <td>0.861352</td>\n",
       "      <td>0.328412</td>\n",
       "      <td>0.849462</td>\n",
       "    </tr>\n",
       "  </tbody>\n",
       "</table>\n",
       "</div>"
      ],
      "text/plain": [
       "        loss  binary_accuracy  val_loss  val_binary_accuracy\n",
       "0   0.330486         0.853184  0.339062             0.844775\n",
       "1   0.323772         0.855666  0.336535             0.845878\n",
       "2   0.323335         0.857113  0.334164             0.849462\n",
       "3   0.322922         0.858664  0.335721             0.846981\n",
       "4   0.317913         0.860146  0.333766             0.848084\n",
       "5   0.321973         0.860146  0.334887             0.847257\n",
       "6   0.318060         0.860973  0.333415             0.849187\n",
       "7   0.317284         0.859250  0.332285             0.848635\n",
       "8   0.316455         0.860456  0.331960             0.848360\n",
       "9   0.315039         0.861077  0.329931             0.849462\n",
       "10  0.313852         0.862386  0.332214             0.851117\n",
       "11  0.312954         0.861352  0.331587             0.847257\n",
       "12  0.313491         0.861869  0.331837             0.849187\n",
       "13  0.310275         0.863076  0.329495             0.848360\n",
       "14  0.310903         0.864247  0.328554             0.850841\n",
       "15  0.308633         0.862834  0.328131             0.850290\n",
       "16  0.311971         0.863386  0.328319             0.852219\n",
       "17  0.306645         0.863696  0.329820             0.851944\n",
       "18  0.308688         0.863661  0.330908             0.847808\n",
       "19  0.308099         0.861352  0.328412             0.849462"
      ]
     },
     "execution_count": 17,
     "metadata": {},
     "output_type": "execute_result"
    }
   ],
   "source": [
    "history = model.fit(X_train, t_train, batch_size=32, epochs=20, verbose=0, validation_data=(\n",
    "    X_val, t_val))\n",
    "logs = pd.DataFrame(history.history)\n",
    "logs"
   ]
  },
  {
   "cell_type": "code",
   "execution_count": 18,
   "metadata": {},
   "outputs": [],
   "source": [
    "from playsound import playsound\n",
    "playsound('/Users/paul/Downloads/joyous-chime-notification.mp3')"
   ]
  },
  {
   "cell_type": "code",
   "execution_count": 19,
   "metadata": {},
   "outputs": [
    {
     "data": {
      "image/png": "[encoded data removed]",
      "text/plain": [
       "<Figure size 800x500 with 1 Axes>"
      ]
     },
     "metadata": {},
     "output_type": "display_data"
    }
   ],
   "source": [
    "results = pd.DataFrame(history.history)\n",
    "results.plot(figsize=(8, 5))\n",
    "plt.grid(True)\n",
    "plt.xlabel(\"Epochs\")\n",
    "plt.ylabel(\"Accuracy - Mean Log Loss\")\n",
    "plt.gca().set_ylim(0, 1)  # set the vertical range to [0-1]\n",
    "plt.show()"
   ]
  },
  {
   "cell_type": "code",
   "execution_count": 20,
   "metadata": {},
   "outputs": [],
   "source": [
    "model.compile(loss=keras.losses.binary_crossentropy,\n",
    "              optimizer=keras.optimizers.legacy.Adam(learning_rate=0.00001),\n",
    "              metrics=keras.metrics.binary_accuracy)"
   ]
  },
  {
   "cell_type": "code",
   "execution_count": 21,
   "metadata": {},
   "outputs": [
    {
     "name": "stderr",
     "output_type": "stream",
     "text": [
      "2023-11-16 20:04:54.402205: I tensorflow/core/grappler/optimizers/custom_graph_optimizer_registry.cc:114] Plugin optimizer for device_type GPU is enabled.\n",
      "2023-11-16 20:05:08.295113: I tensorflow/core/grappler/optimizers/custom_graph_optimizer_registry.cc:114] Plugin optimizer for device_type GPU is enabled.\n"
     ]
    },
    {
     "data": {
      "text/html": [
       "<div>\n",
       "<style scoped>\n",
       "    .dataframe tbody tr th:only-of-type {\n",
       "        vertical-align: middle;\n",
       "    }\n",
       "\n",
       "    .dataframe tbody tr th {\n",
       "        vertical-align: top;\n",
       "    }\n",
       "\n",
       "    .dataframe thead th {\n",
       "        text-align: right;\n",
       "    }\n",
       "</style>\n",
       "<table border=\"1\" class=\"dataframe\">\n",
       "  <thead>\n",
       "    <tr style=\"text-align: right;\">\n",
       "      <th></th>\n",
       "      <th>loss</th>\n",
       "      <th>binary_accuracy</th>\n",
       "      <th>val_loss</th>\n",
       "      <th>val_binary_accuracy</th>\n",
       "    </tr>\n",
       "  </thead>\n",
       "  <tbody>\n",
       "    <tr>\n",
       "      <th>0</th>\n",
       "      <td>0.305289</td>\n",
       "      <td>0.864523</td>\n",
       "      <td>0.329491</td>\n",
       "      <td>0.851117</td>\n",
       "    </tr>\n",
       "    <tr>\n",
       "      <th>1</th>\n",
       "      <td>0.304480</td>\n",
       "      <td>0.866039</td>\n",
       "      <td>0.328153</td>\n",
       "      <td>0.851668</td>\n",
       "    </tr>\n",
       "    <tr>\n",
       "      <th>2</th>\n",
       "      <td>0.303817</td>\n",
       "      <td>0.867177</td>\n",
       "      <td>0.328352</td>\n",
       "      <td>0.851117</td>\n",
       "    </tr>\n",
       "    <tr>\n",
       "      <th>3</th>\n",
       "      <td>0.306743</td>\n",
       "      <td>0.864523</td>\n",
       "      <td>0.328074</td>\n",
       "      <td>0.851668</td>\n",
       "    </tr>\n",
       "    <tr>\n",
       "      <th>4</th>\n",
       "      <td>0.306568</td>\n",
       "      <td>0.865074</td>\n",
       "      <td>0.328407</td>\n",
       "      <td>0.851668</td>\n",
       "    </tr>\n",
       "    <tr>\n",
       "      <th>5</th>\n",
       "      <td>0.304779</td>\n",
       "      <td>0.866867</td>\n",
       "      <td>0.327802</td>\n",
       "      <td>0.851117</td>\n",
       "    </tr>\n",
       "    <tr>\n",
       "      <th>6</th>\n",
       "      <td>0.307865</td>\n",
       "      <td>0.864764</td>\n",
       "      <td>0.329400</td>\n",
       "      <td>0.851944</td>\n",
       "    </tr>\n",
       "    <tr>\n",
       "      <th>7</th>\n",
       "      <td>0.303346</td>\n",
       "      <td>0.865764</td>\n",
       "      <td>0.328354</td>\n",
       "      <td>0.851117</td>\n",
       "    </tr>\n",
       "    <tr>\n",
       "      <th>8</th>\n",
       "      <td>0.306883</td>\n",
       "      <td>0.865316</td>\n",
       "      <td>0.328728</td>\n",
       "      <td>0.850565</td>\n",
       "    </tr>\n",
       "    <tr>\n",
       "      <th>9</th>\n",
       "      <td>0.300720</td>\n",
       "      <td>0.866901</td>\n",
       "      <td>0.327375</td>\n",
       "      <td>0.850841</td>\n",
       "    </tr>\n",
       "    <tr>\n",
       "      <th>10</th>\n",
       "      <td>0.304585</td>\n",
       "      <td>0.866694</td>\n",
       "      <td>0.328318</td>\n",
       "      <td>0.850841</td>\n",
       "    </tr>\n",
       "    <tr>\n",
       "      <th>11</th>\n",
       "      <td>0.305549</td>\n",
       "      <td>0.864385</td>\n",
       "      <td>0.328686</td>\n",
       "      <td>0.850290</td>\n",
       "    </tr>\n",
       "    <tr>\n",
       "      <th>12</th>\n",
       "      <td>0.303085</td>\n",
       "      <td>0.866453</td>\n",
       "      <td>0.327655</td>\n",
       "      <td>0.850290</td>\n",
       "    </tr>\n",
       "    <tr>\n",
       "      <th>13</th>\n",
       "      <td>0.305891</td>\n",
       "      <td>0.864868</td>\n",
       "      <td>0.327919</td>\n",
       "      <td>0.850565</td>\n",
       "    </tr>\n",
       "    <tr>\n",
       "      <th>14</th>\n",
       "      <td>0.304413</td>\n",
       "      <td>0.866832</td>\n",
       "      <td>0.328289</td>\n",
       "      <td>0.851668</td>\n",
       "    </tr>\n",
       "    <tr>\n",
       "      <th>15</th>\n",
       "      <td>0.306273</td>\n",
       "      <td>0.864385</td>\n",
       "      <td>0.327299</td>\n",
       "      <td>0.849738</td>\n",
       "    </tr>\n",
       "    <tr>\n",
       "      <th>16</th>\n",
       "      <td>0.302215</td>\n",
       "      <td>0.867142</td>\n",
       "      <td>0.328125</td>\n",
       "      <td>0.853047</td>\n",
       "    </tr>\n",
       "    <tr>\n",
       "      <th>17</th>\n",
       "      <td>0.304739</td>\n",
       "      <td>0.867900</td>\n",
       "      <td>0.328656</td>\n",
       "      <td>0.850841</td>\n",
       "    </tr>\n",
       "    <tr>\n",
       "      <th>18</th>\n",
       "      <td>0.304022</td>\n",
       "      <td>0.863282</td>\n",
       "      <td>0.327592</td>\n",
       "      <td>0.850841</td>\n",
       "    </tr>\n",
       "    <tr>\n",
       "      <th>19</th>\n",
       "      <td>0.306121</td>\n",
       "      <td>0.864833</td>\n",
       "      <td>0.327800</td>\n",
       "      <td>0.852219</td>\n",
       "    </tr>\n",
       "  </tbody>\n",
       "</table>\n",
       "</div>"
      ],
      "text/plain": [
       "        loss  binary_accuracy  val_loss  val_binary_accuracy\n",
       "0   0.305289         0.864523  0.329491             0.851117\n",
       "1   0.304480         0.866039  0.328153             0.851668\n",
       "2   0.303817         0.867177  0.328352             0.851117\n",
       "3   0.306743         0.864523  0.328074             0.851668\n",
       "4   0.306568         0.865074  0.328407             0.851668\n",
       "5   0.304779         0.866867  0.327802             0.851117\n",
       "6   0.307865         0.864764  0.329400             0.851944\n",
       "7   0.303346         0.865764  0.328354             0.851117\n",
       "8   0.306883         0.865316  0.328728             0.850565\n",
       "9   0.300720         0.866901  0.327375             0.850841\n",
       "10  0.304585         0.866694  0.328318             0.850841\n",
       "11  0.305549         0.864385  0.328686             0.850290\n",
       "12  0.303085         0.866453  0.327655             0.850290\n",
       "13  0.305891         0.864868  0.327919             0.850565\n",
       "14  0.304413         0.866832  0.328289             0.851668\n",
       "15  0.306273         0.864385  0.327299             0.849738\n",
       "16  0.302215         0.867142  0.328125             0.853047\n",
       "17  0.304739         0.867900  0.328656             0.850841\n",
       "18  0.304022         0.863282  0.327592             0.850841\n",
       "19  0.306121         0.864833  0.327800             0.852219"
      ]
     },
     "execution_count": 21,
     "metadata": {},
     "output_type": "execute_result"
    }
   ],
   "source": [
    "history = model.fit(X_train, t_train, batch_size=32, epochs=20, verbose=0, validation_data=(\n",
    "    X_val, t_val))\n",
    "logs = pd.DataFrame(history.history)\n",
    "logs"
   ]
  },
  {
   "cell_type": "code",
   "execution_count": 22,
   "metadata": {},
   "outputs": [],
   "source": [
    "from playsound import playsound\n",
    "playsound('/Users/paul/Downloads/joyous-chime-notification.mp3')"
   ]
  },
  {
   "cell_type": "code",
   "execution_count": 23,
   "metadata": {},
   "outputs": [
    {
     "data": {
      "image/png": "[encoded data removed]",
      "text/plain": [
       "<Figure size 800x500 with 1 Axes>"
      ]
     },
     "metadata": {},
     "output_type": "display_data"
    }
   ],
   "source": [
    "results = pd.DataFrame(history.history)\n",
    "results.plot(figsize=(8, 5))\n",
    "plt.grid(True)\n",
    "plt.xlabel(\"Epochs\")\n",
    "plt.ylabel(\"Accuracy - Mean Log Loss\")\n",
    "plt.gca().set_ylim(0, 1)  # set the vertical range to [0-1]\n",
    "plt.show()"
   ]
  },
  {
   "cell_type": "code",
   "execution_count": null,
   "metadata": {},
   "outputs": [],
   "source": []
  },
  {
   "cell_type": "markdown",
   "metadata": {},
   "source": [
    "Idea : poner poco dropout en la primeras capas y subir en las siguientes\n",
    "Coger el modelo de Sergio y cambiar lo un poco\n",
    "\n",
    "Chacun écrit un peu ce qu'il a fait\n",
    "\n",
    "Paul : Faire la présentation du projet, le problème qu'il représente etc\n",
    "\n",
    "Idea : add layer normalization and tweak it"
   ]
  },
  {
   "cell_type": "code",
   "execution_count": null,
   "metadata": {},
   "outputs": [],
   "source": [
    "n_epochs = 100\n",
    "lr = 0.001\n",
    "batch_size = 512\n",
    "tasa_dropout = 0.2\n",
    "error = 0.01\n",
    "n_neurons_per_hlayer = [1024, 512, 256, 128, 64, 32, 16]\n",
    "model = keras.Sequential(name=\"DeepFeedforward\")\n",
    "model.add(keras.layers.InputLayer(input_shape=(INPUTS,), batch_size=None))\n",
    "\n",
    "for neurons in n_neurons_per_hlayer:\n",
    "  model.add(keras.layers.Dense(neurons, kernel_initializer=\"he_normal\",\n",
    "            use_bias=False, kernel_regularizer=keras.regularizers.l2(lr)))\n",
    "  model.add(keras.layers.BatchNormalization())\n",
    "  model.add(keras.layers.Activation(\"elu\"))\n",
    "  model.add(tf.keras.layers.Dropout(tasa_dropout))\n",
    "\n",
    "model.add(keras.layers.Dense(1, activation=\"sigmoid\",\n",
    "          kernel_regularizer=keras.regularizers.l2(lr)))\n",
    "model.summary()\n",
    "results = pd.DataFrame(history.history)\n",
    "results.plot(figsize=(8, 5))\n",
    "plt.grid(True)\n",
    "plt.xlabel(\"Epochs\")\n",
    "plt.ylabel(\"Accuracy - Mean Log Loss\")\n",
    "plt.gca().set_ylim(0, 1)  # set the vertical range to [0-1]\n",
    "plt.savefig(f\"./images/loss{n_neurons_per_hlayer}.png\")\n",
    "plt.show()"
   ]
  },
  {
   "cell_type": "markdown",
   "metadata": {},
   "source": [
    "## Attempt 16\n",
    "\n",
    "Using Sergio's model"
   ]
  },
  {
   "cell_type": "code",
   "execution_count": 8,
   "metadata": {},
   "outputs": [
    {
     "name": "stderr",
     "output_type": "stream",
     "text": [
      "2023-11-26 00:45:27.091034: I metal_plugin/src/device/metal_device.cc:1154] Metal device set to: Apple M1\n",
      "2023-11-26 00:45:27.091056: I metal_plugin/src/device/metal_device.cc:296] systemMemory: 16.00 GB\n",
      "2023-11-26 00:45:27.091062: I metal_plugin/src/device/metal_device.cc:313] maxCacheSize: 5.33 GB\n",
      "2023-11-26 00:45:27.091097: I tensorflow/core/common_runtime/pluggable_device/pluggable_device_factory.cc:303] Could not identify NUMA node of platform GPU ID 0, defaulting to 0. Your kernel may not have been built with NUMA support.\n",
      "2023-11-26 00:45:27.091115: I tensorflow/core/common_runtime/pluggable_device/pluggable_device_factory.cc:269] Created TensorFlow device (/job:localhost/replica:0/task:0/device:GPU:0 with 0 MB memory) -> physical PluggableDevice (device: 0, name: METAL, pci bus id: <undefined>)\n"
     ]
    },
    {
     "name": "stdout",
     "output_type": "stream",
     "text": [
      "Model: \"model_16\"\n",
      "_________________________________________________________________\n",
      " Layer (type)                Output Shape              Param #   \n",
      "=================================================================\n",
      " dense (Dense)               (None, 1024)              17408     \n",
      "                                                                 \n",
      " batch_normalization (Batch  (None, 1024)              4096      \n",
      " Normalization)                                                  \n",
      "                                                                 \n",
      " dropout (Dropout)           (None, 1024)              0         \n",
      "                                                                 \n",
      " dense_1 (Dense)             (None, 512)               524800    \n",
      "                                                                 \n",
      " batch_normalization_1 (Bat  (None, 512)               2048      \n",
      " chNormalization)                                                \n",
      "                                                                 \n",
      " dropout_1 (Dropout)         (None, 512)               0         \n",
      "                                                                 \n",
      " dense_2 (Dense)             (None, 256)               131328    \n",
      "                                                                 \n",
      " batch_normalization_2 (Bat  (None, 256)               1024      \n",
      " chNormalization)                                                \n",
      "                                                                 \n",
      " dropout_2 (Dropout)         (None, 256)               0         \n",
      "                                                                 \n",
      " dense_3 (Dense)             (None, 128)               32896     \n",
      "                                                                 \n",
      " batch_normalization_3 (Bat  (None, 128)               512       \n",
      " chNormalization)                                                \n",
      "                                                                 \n",
      " dropout_3 (Dropout)         (None, 128)               0         \n",
      "                                                                 \n",
      " dense_4 (Dense)             (None, 64)                8256      \n",
      "                                                                 \n",
      " batch_normalization_4 (Bat  (None, 64)                256       \n",
      " chNormalization)                                                \n",
      "                                                                 \n",
      " dropout_4 (Dropout)         (None, 64)                0         \n",
      "                                                                 \n",
      " dense_5 (Dense)             (None, 32)                2080      \n",
      "                                                                 \n",
      " batch_normalization_5 (Bat  (None, 32)                128       \n",
      " chNormalization)                                                \n",
      "                                                                 \n",
      " dropout_5 (Dropout)         (None, 32)                0         \n",
      "                                                                 \n",
      " dense_6 (Dense)             (None, 16)                528       \n",
      "                                                                 \n",
      " batch_normalization_6 (Bat  (None, 16)                64        \n",
      " chNormalization)                                                \n",
      "                                                                 \n",
      " dropout_6 (Dropout)         (None, 16)                0         \n",
      "                                                                 \n",
      " dense_7 (Dense)             (None, 1)                 17        \n",
      "                                                                 \n",
      "=================================================================\n",
      "Total params: 725441 (2.77 MB)\n",
      "Trainable params: 721377 (2.75 MB)\n",
      "Non-trainable params: 4064 (15.88 KB)\n",
      "_________________________________________________________________\n"
     ]
    }
   ],
   "source": [
    "from keras.models import Sequential\n",
    "\n",
    "model16 = Sequential(name='model_16')\n",
    "\n",
    "layer_sizes = [1024, 512, 256, 128, 64, 32, 16]\n",
    "dropout_rates = [0.05, 0.1, 0.15, 0.15, 0.2, 0.2, 0.25]\n",
    "\n",
    "model16.add(keras.layers.Input(shape=input_shape))\n",
    "\n",
    "for i, layer_size in enumerate(layer_sizes) :\n",
    "    model16.add(keras.layers.Dense(units=layer_size,\n",
    "                                   activation=keras.activations.elu,\n",
    "                                   kernel_initializer=keras.initializers.HeUniform(seed=seed)))\n",
    "    model16.add(keras.layers.BatchNormalization())\n",
    "    model16.add(keras.layers.Dropout(dropout_rates[i]))\n",
    "model16.add(keras.layers.Dense(units=output_shape, activation=keras.activations.sigmoid,\n",
    "                             kernel_initializer=keras.initializers.GlorotNormal(seed=seed)))\n",
    "model16.summary()"
   ]
  },
  {
   "cell_type": "code",
   "execution_count": 9,
   "metadata": {},
   "outputs": [],
   "source": [
    "model16.compile(loss=keras.losses.binary_crossentropy,\n",
    "              optimizer=keras.optimizers.legacy.Adam(learning_rate=0.001),\n",
    "              metrics=keras.metrics.binary_accuracy)"
   ]
  },
  {
   "cell_type": "code",
   "execution_count": 10,
   "metadata": {},
   "outputs": [
    {
     "name": "stderr",
     "output_type": "stream",
     "text": [
      "2023-11-26 00:45:28.206756: I tensorflow/core/grappler/optimizers/custom_graph_optimizer_registry.cc:114] Plugin optimizer for device_type GPU is enabled.\n",
      "2023-11-26 00:46:04.497455: I tensorflow/core/grappler/optimizers/custom_graph_optimizer_registry.cc:114] Plugin optimizer for device_type GPU is enabled.\n"
     ]
    },
    {
     "ename": "KeyboardInterrupt",
     "evalue": "",
     "output_type": "error",
     "traceback": [
      "\u001b[0;31m---------------------------------------------------------------------------\u001b[0m",
      "\u001b[0;31mKeyboardInterrupt\u001b[0m                         Traceback (most recent call last)",
      "\u001b[1;32m/Users/paul/Library/Mobile Documents/com~apple~CloudDocs/Professionnel/GI05/A6 - NN and DL/Project_Units_1-2/DL/tests2.ipynb Cell 135\u001b[0m line \u001b[0;36m1\n\u001b[0;32m----> <a href='vscode-notebook-cell:/Users/paul/Library/Mobile%20Documents/com~apple~CloudDocs/Professionnel/GI05/A6%20-%20NN%20and%20DL/Project_Units_1-2/DL/tests2.ipynb#Y250sZmlsZQ%3D%3D?line=0'>1</a>\u001b[0m history \u001b[39m=\u001b[39m model16\u001b[39m.\u001b[39mfit(X_train, t_train, batch_size\u001b[39m=\u001b[39m\u001b[39m32\u001b[39m, epochs\u001b[39m=\u001b[39m\u001b[39m20\u001b[39m, verbose\u001b[39m=\u001b[39m\u001b[39m0\u001b[39m, validation_data\u001b[39m=\u001b[39m(\n\u001b[1;32m      <a href='vscode-notebook-cell:/Users/paul/Library/Mobile%20Documents/com~apple~CloudDocs/Professionnel/GI05/A6%20-%20NN%20and%20DL/Project_Units_1-2/DL/tests2.ipynb#Y250sZmlsZQ%3D%3D?line=1'>2</a>\u001b[0m     X_val, t_val))\n\u001b[1;32m      <a href='vscode-notebook-cell:/Users/paul/Library/Mobile%20Documents/com~apple~CloudDocs/Professionnel/GI05/A6%20-%20NN%20and%20DL/Project_Units_1-2/DL/tests2.ipynb#Y250sZmlsZQ%3D%3D?line=2'>3</a>\u001b[0m logs \u001b[39m=\u001b[39m pd\u001b[39m.\u001b[39mDataFrame(history\u001b[39m.\u001b[39mhistory)\n\u001b[1;32m      <a href='vscode-notebook-cell:/Users/paul/Library/Mobile%20Documents/com~apple~CloudDocs/Professionnel/GI05/A6%20-%20NN%20and%20DL/Project_Units_1-2/DL/tests2.ipynb#Y250sZmlsZQ%3D%3D?line=3'>4</a>\u001b[0m logs\n",
      "File \u001b[0;32m/opt/homebrew/Caskroom/miniforge/base/envs/mlp2/lib/python3.11/site-packages/keras/src/utils/traceback_utils.py:65\u001b[0m, in \u001b[0;36mfilter_traceback.<locals>.error_handler\u001b[0;34m(*args, **kwargs)\u001b[0m\n\u001b[1;32m     63\u001b[0m filtered_tb \u001b[39m=\u001b[39m \u001b[39mNone\u001b[39;00m\n\u001b[1;32m     64\u001b[0m \u001b[39mtry\u001b[39;00m:\n\u001b[0;32m---> 65\u001b[0m     \u001b[39mreturn\u001b[39;00m fn(\u001b[39m*\u001b[39margs, \u001b[39m*\u001b[39m\u001b[39m*\u001b[39mkwargs)\n\u001b[1;32m     66\u001b[0m \u001b[39mexcept\u001b[39;00m \u001b[39mException\u001b[39;00m \u001b[39mas\u001b[39;00m e:\n\u001b[1;32m     67\u001b[0m     filtered_tb \u001b[39m=\u001b[39m _process_traceback_frames(e\u001b[39m.\u001b[39m__traceback__)\n",
      "File \u001b[0;32m/opt/homebrew/Caskroom/miniforge/base/envs/mlp2/lib/python3.11/site-packages/keras/src/engine/training.py:1742\u001b[0m, in \u001b[0;36mModel.fit\u001b[0;34m(self, x, y, batch_size, epochs, verbose, callbacks, validation_split, validation_data, shuffle, class_weight, sample_weight, initial_epoch, steps_per_epoch, validation_steps, validation_batch_size, validation_freq, max_queue_size, workers, use_multiprocessing)\u001b[0m\n\u001b[1;32m   1734\u001b[0m \u001b[39mwith\u001b[39;00m tf\u001b[39m.\u001b[39mprofiler\u001b[39m.\u001b[39mexperimental\u001b[39m.\u001b[39mTrace(\n\u001b[1;32m   1735\u001b[0m     \u001b[39m\"\u001b[39m\u001b[39mtrain\u001b[39m\u001b[39m\"\u001b[39m,\n\u001b[1;32m   1736\u001b[0m     epoch_num\u001b[39m=\u001b[39mepoch,\n\u001b[0;32m   (...)\u001b[0m\n\u001b[1;32m   1739\u001b[0m     _r\u001b[39m=\u001b[39m\u001b[39m1\u001b[39m,\n\u001b[1;32m   1740\u001b[0m ):\n\u001b[1;32m   1741\u001b[0m     callbacks\u001b[39m.\u001b[39mon_train_batch_begin(step)\n\u001b[0;32m-> 1742\u001b[0m     tmp_logs \u001b[39m=\u001b[39m \u001b[39mself\u001b[39m\u001b[39m.\u001b[39mtrain_function(iterator)\n\u001b[1;32m   1743\u001b[0m     \u001b[39mif\u001b[39;00m data_handler\u001b[39m.\u001b[39mshould_sync:\n\u001b[1;32m   1744\u001b[0m         context\u001b[39m.\u001b[39masync_wait()\n",
      "File \u001b[0;32m/opt/homebrew/Caskroom/miniforge/base/envs/mlp2/lib/python3.11/site-packages/tensorflow/python/util/traceback_utils.py:150\u001b[0m, in \u001b[0;36mfilter_traceback.<locals>.error_handler\u001b[0;34m(*args, **kwargs)\u001b[0m\n\u001b[1;32m    148\u001b[0m filtered_tb \u001b[39m=\u001b[39m \u001b[39mNone\u001b[39;00m\n\u001b[1;32m    149\u001b[0m \u001b[39mtry\u001b[39;00m:\n\u001b[0;32m--> 150\u001b[0m   \u001b[39mreturn\u001b[39;00m fn(\u001b[39m*\u001b[39margs, \u001b[39m*\u001b[39m\u001b[39m*\u001b[39mkwargs)\n\u001b[1;32m    151\u001b[0m \u001b[39mexcept\u001b[39;00m \u001b[39mException\u001b[39;00m \u001b[39mas\u001b[39;00m e:\n\u001b[1;32m    152\u001b[0m   filtered_tb \u001b[39m=\u001b[39m _process_traceback_frames(e\u001b[39m.\u001b[39m__traceback__)\n",
      "File \u001b[0;32m/opt/homebrew/Caskroom/miniforge/base/envs/mlp2/lib/python3.11/site-packages/tensorflow/python/eager/polymorphic_function/polymorphic_function.py:825\u001b[0m, in \u001b[0;36mFunction.__call__\u001b[0;34m(self, *args, **kwds)\u001b[0m\n\u001b[1;32m    822\u001b[0m compiler \u001b[39m=\u001b[39m \u001b[39m\"\u001b[39m\u001b[39mxla\u001b[39m\u001b[39m\"\u001b[39m \u001b[39mif\u001b[39;00m \u001b[39mself\u001b[39m\u001b[39m.\u001b[39m_jit_compile \u001b[39melse\u001b[39;00m \u001b[39m\"\u001b[39m\u001b[39mnonXla\u001b[39m\u001b[39m\"\u001b[39m\n\u001b[1;32m    824\u001b[0m \u001b[39mwith\u001b[39;00m OptionalXlaContext(\u001b[39mself\u001b[39m\u001b[39m.\u001b[39m_jit_compile):\n\u001b[0;32m--> 825\u001b[0m   result \u001b[39m=\u001b[39m \u001b[39mself\u001b[39m\u001b[39m.\u001b[39m_call(\u001b[39m*\u001b[39margs, \u001b[39m*\u001b[39m\u001b[39m*\u001b[39mkwds)\n\u001b[1;32m    827\u001b[0m new_tracing_count \u001b[39m=\u001b[39m \u001b[39mself\u001b[39m\u001b[39m.\u001b[39mexperimental_get_tracing_count()\n\u001b[1;32m    828\u001b[0m without_tracing \u001b[39m=\u001b[39m (tracing_count \u001b[39m==\u001b[39m new_tracing_count)\n",
      "File \u001b[0;32m/opt/homebrew/Caskroom/miniforge/base/envs/mlp2/lib/python3.11/site-packages/tensorflow/python/eager/polymorphic_function/polymorphic_function.py:857\u001b[0m, in \u001b[0;36mFunction._call\u001b[0;34m(self, *args, **kwds)\u001b[0m\n\u001b[1;32m    854\u001b[0m   \u001b[39mself\u001b[39m\u001b[39m.\u001b[39m_lock\u001b[39m.\u001b[39mrelease()\n\u001b[1;32m    855\u001b[0m   \u001b[39m# In this case we have created variables on the first call, so we run the\u001b[39;00m\n\u001b[1;32m    856\u001b[0m   \u001b[39m# defunned version which is guaranteed to never create variables.\u001b[39;00m\n\u001b[0;32m--> 857\u001b[0m   \u001b[39mreturn\u001b[39;00m \u001b[39mself\u001b[39m\u001b[39m.\u001b[39m_no_variable_creation_fn(\u001b[39m*\u001b[39margs, \u001b[39m*\u001b[39m\u001b[39m*\u001b[39mkwds)  \u001b[39m# pylint: disable=not-callable\u001b[39;00m\n\u001b[1;32m    858\u001b[0m \u001b[39melif\u001b[39;00m \u001b[39mself\u001b[39m\u001b[39m.\u001b[39m_variable_creation_fn \u001b[39mis\u001b[39;00m \u001b[39mnot\u001b[39;00m \u001b[39mNone\u001b[39;00m:\n\u001b[1;32m    859\u001b[0m   \u001b[39m# Release the lock early so that multiple threads can perform the call\u001b[39;00m\n\u001b[1;32m    860\u001b[0m   \u001b[39m# in parallel.\u001b[39;00m\n\u001b[1;32m    861\u001b[0m   \u001b[39mself\u001b[39m\u001b[39m.\u001b[39m_lock\u001b[39m.\u001b[39mrelease()\n",
      "File \u001b[0;32m/opt/homebrew/Caskroom/miniforge/base/envs/mlp2/lib/python3.11/site-packages/tensorflow/python/eager/polymorphic_function/tracing_compiler.py:148\u001b[0m, in \u001b[0;36mTracingCompiler.__call__\u001b[0;34m(self, *args, **kwargs)\u001b[0m\n\u001b[1;32m    145\u001b[0m \u001b[39mwith\u001b[39;00m \u001b[39mself\u001b[39m\u001b[39m.\u001b[39m_lock:\n\u001b[1;32m    146\u001b[0m   (concrete_function,\n\u001b[1;32m    147\u001b[0m    filtered_flat_args) \u001b[39m=\u001b[39m \u001b[39mself\u001b[39m\u001b[39m.\u001b[39m_maybe_define_function(args, kwargs)\n\u001b[0;32m--> 148\u001b[0m \u001b[39mreturn\u001b[39;00m concrete_function\u001b[39m.\u001b[39m_call_flat(\n\u001b[1;32m    149\u001b[0m     filtered_flat_args, captured_inputs\u001b[39m=\u001b[39mconcrete_function\u001b[39m.\u001b[39mcaptured_inputs)\n",
      "File \u001b[0;32m/opt/homebrew/Caskroom/miniforge/base/envs/mlp2/lib/python3.11/site-packages/tensorflow/python/eager/polymorphic_function/monomorphic_function.py:1349\u001b[0m, in \u001b[0;36mConcreteFunction._call_flat\u001b[0;34m(self, args, captured_inputs)\u001b[0m\n\u001b[1;32m   1345\u001b[0m possible_gradient_type \u001b[39m=\u001b[39m gradients_util\u001b[39m.\u001b[39mPossibleTapeGradientTypes(args)\n\u001b[1;32m   1346\u001b[0m \u001b[39mif\u001b[39;00m (possible_gradient_type \u001b[39m==\u001b[39m gradients_util\u001b[39m.\u001b[39mPOSSIBLE_GRADIENT_TYPES_NONE\n\u001b[1;32m   1347\u001b[0m     \u001b[39mand\u001b[39;00m executing_eagerly):\n\u001b[1;32m   1348\u001b[0m   \u001b[39m# No tape is watching; skip to running the function.\u001b[39;00m\n\u001b[0;32m-> 1349\u001b[0m   \u001b[39mreturn\u001b[39;00m \u001b[39mself\u001b[39m\u001b[39m.\u001b[39m_build_call_outputs(\u001b[39mself\u001b[39m\u001b[39m.\u001b[39m_inference_function(\u001b[39m*\u001b[39margs))\n\u001b[1;32m   1350\u001b[0m forward_backward \u001b[39m=\u001b[39m \u001b[39mself\u001b[39m\u001b[39m.\u001b[39m_select_forward_and_backward_functions(\n\u001b[1;32m   1351\u001b[0m     args,\n\u001b[1;32m   1352\u001b[0m     possible_gradient_type,\n\u001b[1;32m   1353\u001b[0m     executing_eagerly)\n\u001b[1;32m   1354\u001b[0m forward_function, args_with_tangents \u001b[39m=\u001b[39m forward_backward\u001b[39m.\u001b[39mforward()\n",
      "File \u001b[0;32m/opt/homebrew/Caskroom/miniforge/base/envs/mlp2/lib/python3.11/site-packages/tensorflow/python/eager/polymorphic_function/atomic_function.py:196\u001b[0m, in \u001b[0;36mAtomicFunction.__call__\u001b[0;34m(self, *args)\u001b[0m\n\u001b[1;32m    194\u001b[0m \u001b[39mwith\u001b[39;00m record\u001b[39m.\u001b[39mstop_recording():\n\u001b[1;32m    195\u001b[0m   \u001b[39mif\u001b[39;00m \u001b[39mself\u001b[39m\u001b[39m.\u001b[39m_bound_context\u001b[39m.\u001b[39mexecuting_eagerly():\n\u001b[0;32m--> 196\u001b[0m     outputs \u001b[39m=\u001b[39m \u001b[39mself\u001b[39m\u001b[39m.\u001b[39m_bound_context\u001b[39m.\u001b[39mcall_function(\n\u001b[1;32m    197\u001b[0m         \u001b[39mself\u001b[39m\u001b[39m.\u001b[39mname,\n\u001b[1;32m    198\u001b[0m         \u001b[39mlist\u001b[39m(args),\n\u001b[1;32m    199\u001b[0m         \u001b[39mlen\u001b[39m(\u001b[39mself\u001b[39m\u001b[39m.\u001b[39mfunction_type\u001b[39m.\u001b[39mflat_outputs),\n\u001b[1;32m    200\u001b[0m     )\n\u001b[1;32m    201\u001b[0m   \u001b[39melse\u001b[39;00m:\n\u001b[1;32m    202\u001b[0m     outputs \u001b[39m=\u001b[39m make_call_op_in_graph(\u001b[39mself\u001b[39m, \u001b[39mlist\u001b[39m(args))\n",
      "File \u001b[0;32m/opt/homebrew/Caskroom/miniforge/base/envs/mlp2/lib/python3.11/site-packages/tensorflow/python/eager/context.py:1457\u001b[0m, in \u001b[0;36mContext.call_function\u001b[0;34m(self, name, tensor_inputs, num_outputs)\u001b[0m\n\u001b[1;32m   1455\u001b[0m cancellation_context \u001b[39m=\u001b[39m cancellation\u001b[39m.\u001b[39mcontext()\n\u001b[1;32m   1456\u001b[0m \u001b[39mif\u001b[39;00m cancellation_context \u001b[39mis\u001b[39;00m \u001b[39mNone\u001b[39;00m:\n\u001b[0;32m-> 1457\u001b[0m   outputs \u001b[39m=\u001b[39m execute\u001b[39m.\u001b[39mexecute(\n\u001b[1;32m   1458\u001b[0m       name\u001b[39m.\u001b[39mdecode(\u001b[39m\"\u001b[39m\u001b[39mutf-8\u001b[39m\u001b[39m\"\u001b[39m),\n\u001b[1;32m   1459\u001b[0m       num_outputs\u001b[39m=\u001b[39mnum_outputs,\n\u001b[1;32m   1460\u001b[0m       inputs\u001b[39m=\u001b[39mtensor_inputs,\n\u001b[1;32m   1461\u001b[0m       attrs\u001b[39m=\u001b[39mattrs,\n\u001b[1;32m   1462\u001b[0m       ctx\u001b[39m=\u001b[39m\u001b[39mself\u001b[39m,\n\u001b[1;32m   1463\u001b[0m   )\n\u001b[1;32m   1464\u001b[0m \u001b[39melse\u001b[39;00m:\n\u001b[1;32m   1465\u001b[0m   outputs \u001b[39m=\u001b[39m execute\u001b[39m.\u001b[39mexecute_with_cancellation(\n\u001b[1;32m   1466\u001b[0m       name\u001b[39m.\u001b[39mdecode(\u001b[39m\"\u001b[39m\u001b[39mutf-8\u001b[39m\u001b[39m\"\u001b[39m),\n\u001b[1;32m   1467\u001b[0m       num_outputs\u001b[39m=\u001b[39mnum_outputs,\n\u001b[0;32m   (...)\u001b[0m\n\u001b[1;32m   1471\u001b[0m       cancellation_manager\u001b[39m=\u001b[39mcancellation_context,\n\u001b[1;32m   1472\u001b[0m   )\n",
      "File \u001b[0;32m/opt/homebrew/Caskroom/miniforge/base/envs/mlp2/lib/python3.11/site-packages/tensorflow/python/eager/execute.py:53\u001b[0m, in \u001b[0;36mquick_execute\u001b[0;34m(op_name, num_outputs, inputs, attrs, ctx, name)\u001b[0m\n\u001b[1;32m     51\u001b[0m \u001b[39mtry\u001b[39;00m:\n\u001b[1;32m     52\u001b[0m   ctx\u001b[39m.\u001b[39mensure_initialized()\n\u001b[0;32m---> 53\u001b[0m   tensors \u001b[39m=\u001b[39m pywrap_tfe\u001b[39m.\u001b[39mTFE_Py_Execute(ctx\u001b[39m.\u001b[39m_handle, device_name, op_name,\n\u001b[1;32m     54\u001b[0m                                       inputs, attrs, num_outputs)\n\u001b[1;32m     55\u001b[0m \u001b[39mexcept\u001b[39;00m core\u001b[39m.\u001b[39m_NotOkStatusException \u001b[39mas\u001b[39;00m e:\n\u001b[1;32m     56\u001b[0m   \u001b[39mif\u001b[39;00m name \u001b[39mis\u001b[39;00m \u001b[39mnot\u001b[39;00m \u001b[39mNone\u001b[39;00m:\n",
      "\u001b[0;31mKeyboardInterrupt\u001b[0m: "
     ]
    }
   ],
   "source": [
    "history = model16.fit(X_train, t_train, batch_size=32, epochs=20, verbose=0, validation_data=(\n",
    "    X_val, t_val))\n",
    "logs = pd.DataFrame(history.history)\n",
    "logs"
   ]
  },
  {
   "cell_type": "code",
   "execution_count": null,
   "metadata": {},
   "outputs": [],
   "source": [
    "history = model16.fit(X_train, t_train, batch_size=32, epochs=20, verbose=0, validation_data=(\n",
    "    X_val, t_val))\n",
    "logs = pd.DataFrame(history.history)\n",
    "logs"
   ]
  }
 ],
 "metadata": {
  "kernelspec": {
   "display_name": "mlp2",
   "language": "python",
   "name": "python3"
  },
  "language_info": {
   "codemirror_mode": {
    "name": "ipython",
    "version": 3
   },
   "file_extension": ".py",
   "mimetype": "text/x-python",
   "name": "python",
   "nbconvert_exporter": "python",
   "pygments_lexer": "ipython3",
   "version": "3.11.3"
  }
 },
 "nbformat": 4,
 "nbformat_minor": 2
}
